{
 "cells": [
  {
   "cell_type": "markdown",
   "id": "d9e76752-0213-434b-a01b-261285718b8b",
   "metadata": {},
   "source": [
    "1.In the below elements which of them are values or an expression? eg:- values can be\n",
    "integer or string and expressions will be mathematical operators."
   ]
  },
  {
   "cell_type": "markdown",
   "id": "451ff8ee-0bce-4547-aa2d-18f5d7d79ca7",
   "metadata": {},
   "source": [
    "Solution\n",
    "element\tvalue/expression"
   ]
  },
  {
   "cell_type": "code",
   "execution_count": 33,
   "id": "6bce7bc6-9b75-4613-8492-50e2dc0461d1",
   "metadata": {},
   "outputs": [
    {
     "name": "stdout",
     "output_type": "stream",
     "text": [
      "*   expression\n",
      "'hello' value\n",
      "-87.8   value\n",
      "-   expression\n",
      "/   expression\n",
      "+   expression\n",
      "6   value\n"
     ]
    }
   ],
   "source": [
    "print(\"*   expression\")\n",
    "print(\"'hello' value\")\n",
    "print(\"-87.8   value\")\n",
    "print(\"-   expression\")\n",
    "print(\"/   expression\")\n",
    "print(\"+   expression\")\n",
    "print(\"6   value\")"
   ]
  },
  {
   "cell_type": "markdown",
   "id": "6267a885-2497-4a5d-a0c4-d709ed7d81a4",
   "metadata": {},
   "source": [
    "2. What is the difference between string and variable?\n"
   ]
  },
  {
   "cell_type": "markdown",
   "id": "28000e5d-6de8-4bd7-94ff-eec4a8c484d3",
   "metadata": {},
   "source": [
    "Solution\n",
    "•\tString:\n",
    "\tA string is a collection of characters enclosed within single ' or \" quotation marks.\n",
    "\tString is of Sequence data type.\n",
    "•\tVariable:\n",
    "\tVariables are containers for storing data values. Ex: A=25 [A=Variable ,25=Data].\n",
    "\tA variable name must start with s letter or the underscore (_) character.\n",
    "\tA Variable name cannot start with the Number.\n",
    "\tA variable is a name to which any value can be assigned.\n",
    "\tA variable can be of type integer or string or boolean etc.\n",
    "\n",
    "Eg: name=\"Ram\"\n",
    "    user_name=\"Ram\"\n",
    "    name2=\"Ram\"\n",
    "    "
   ]
  },
  {
   "cell_type": "code",
   "execution_count": 1,
   "id": "75b1e632-b9e1-4227-b0f1-35f12049bd28",
   "metadata": {},
   "outputs": [
    {
     "name": "stdout",
     "output_type": "stream",
     "text": [
      "<class 'str'>\n"
     ]
    }
   ],
   "source": [
    "# initializing a string\n",
    "\n",
    "my_name = \"Kesav\"\n",
    "print(type(my_name))"
   ]
  },
  {
   "cell_type": "code",
   "execution_count": 2,
   "id": "3a96b48b-6cf6-4791-b0ee-ee2c8316d4ed",
   "metadata": {},
   "outputs": [
    {
     "name": "stdout",
     "output_type": "stream",
     "text": [
      "<class 'str'> <class 'int'>\n"
     ]
    }
   ],
   "source": [
    "# initializing a string type variable\n",
    "my_name = \"Kesav\"\n",
    "\n",
    "# initializing a integer type variable\n",
    "my_age = 26\n",
    "\n",
    "print(type(my_name), type(my_age))"
   ]
  },
  {
   "cell_type": "markdown",
   "id": "237e31b0-3958-46e6-a88a-f7446f62c2f5",
   "metadata": {},
   "source": [
    "3. Describe three different data types."
   ]
  },
  {
   "cell_type": "markdown",
   "id": "a732eff3-7b1c-4a30-8b11-7b58e0f24ab9",
   "metadata": {},
   "source": [
    "Solution\n",
    "Numeric Data types\n",
    "represents the data that has a numeric value.\n",
    "main numeric data types are,\n",
    "   *Integers\n",
    "   *Floating-point\n",
    "   *Complex Numbers\n",
    "Boolean Data type\n",
    "Boolean data type have two values either True or False.\n",
    "Used to determine whether logic of a comparison is correct.\n",
    "Sequence Data type\n",
    "Sequence data type are collection of similar or different data types values."
   ]
  },
  {
   "cell_type": "code",
   "execution_count": 4,
   "id": "962cb082-7c24-488c-97b4-61d553db9a71",
   "metadata": {},
   "outputs": [
    {
     "name": "stdout",
     "output_type": "stream",
     "text": [
      "57\n",
      "29.57\n",
      "(2+2j)\n"
     ]
    }
   ],
   "source": [
    "# Numeric Data types examples\n",
    "\n",
    "a = 57       # it is a integer\n",
    "print(a)\n",
    "b = 29.57  #  it is a floating point number\n",
    "print(b)\n",
    "print(complex(2, 2))    # represents (2+2j), complex number"
   ]
  },
  {
   "cell_type": "code",
   "execution_count": 6,
   "id": "8d5963c7-e7fe-46b4-b998-7af3456e5fe1",
   "metadata": {},
   "outputs": [
    {
     "name": "stdout",
     "output_type": "stream",
     "text": [
      "True\n",
      "False\n"
     ]
    }
   ],
   "source": [
    "# Boolean Data types example\n",
    "\n",
    "a = 57\n",
    "b = 29 \n",
    "print(a>b)     # results `True`\n",
    "print(a<b)    # results `False`"
   ]
  },
  {
   "cell_type": "code",
   "execution_count": 11,
   "id": "1dfaa4c3-816f-47fc-9260-b113f3d5ed77",
   "metadata": {},
   "outputs": [
    {
     "name": "stdout",
     "output_type": "stream",
     "text": [
      "Be a Good Person!\n"
     ]
    }
   ],
   "source": [
    "# Sequence Data types example\n",
    "\n",
    "print(\"Be a Good Person!\") # string data type"
   ]
  },
  {
   "cell_type": "markdown",
   "id": "f1cb0e4f-8a92-43ca-a0d3-96cfcef2b000",
   "metadata": {},
   "source": [
    "4. What is an expression made up of? What do all expressions do?"
   ]
  },
  {
   "cell_type": "markdown",
   "id": "1c1ee816-d473-4a18-9f6d-7f5ab344c90e",
   "metadata": {},
   "source": [
    "Expression is a combination of values, variables, operators or function calls. Expression is something that needs to be evaluated by the interpreter that produces a value."
   ]
  },
  {
   "cell_type": "code",
   "execution_count": 15,
   "id": "d0c034f4-0570-4662-8672-6fb9b1e1c233",
   "metadata": {},
   "outputs": [
    {
     "data": {
      "text/plain": [
       "10.58"
      ]
     },
     "execution_count": 15,
     "metadata": {},
     "output_type": "execute_result"
    }
   ],
   "source": [
    "# statement & expression\n",
    "pi = 5.29 #statement\n",
    "pi*2   #expression"
   ]
  },
  {
   "cell_type": "markdown",
   "id": "a63fa146-455a-47ec-9153-d81abf40826b",
   "metadata": {},
   "source": [
    "This assignment statements, like spam = 10. What is the difference between an\n",
    "expression and a statement?"
   ]
  },
  {
   "cell_type": "markdown",
   "id": "9e455dcc-dd75-47f4-b384-740ce284aa28",
   "metadata": {},
   "source": [
    "A statement does not yields any value."
   ]
  },
  {
   "cell_type": "code",
   "execution_count": 16,
   "id": "ff205fd7-c072-4748-9578-c7a551b45e16",
   "metadata": {},
   "outputs": [
    {
     "data": {
      "text/plain": [
       "7.29"
      ]
     },
     "execution_count": 16,
     "metadata": {},
     "output_type": "execute_result"
    }
   ],
   "source": [
    "# statement & expression\n",
    "pi = 5.29 #statement\n",
    "pi+2   #expression"
   ]
  },
  {
   "cell_type": "markdown",
   "id": "1249087e-af46-4c92-ba2b-ecf01f6068f5",
   "metadata": {},
   "source": [
    "6. After running the following code, what does the variable bacon contain?\n",
    "bacon = 22\n",
    "bacon + 1"
   ]
  },
  {
   "cell_type": "code",
   "execution_count": 17,
   "id": "5bd26126-c210-4bfa-9364-87b98fac4937",
   "metadata": {},
   "outputs": [
    {
     "data": {
      "text/plain": [
       "23"
      ]
     },
     "execution_count": 17,
     "metadata": {},
     "output_type": "execute_result"
    }
   ],
   "source": [
    "bacon = 22\n",
    "bacon + 1"
   ]
  },
  {
   "cell_type": "code",
   "execution_count": 18,
   "id": "95ed0d32-318e-4fed-8975-71321f25f86f",
   "metadata": {},
   "outputs": [
    {
     "name": "stdout",
     "output_type": "stream",
     "text": [
      "22\n"
     ]
    }
   ],
   "source": [
    "print(bacon)"
   ]
  },
  {
   "cell_type": "markdown",
   "id": "23e5bb60-9718-4743-aa3f-fc0ba1dffb6d",
   "metadata": {},
   "source": [
    "7. What should the values of the following two terms be?\n",
    "&#39;spam&#39; + &#39;spamspam&#39;\n",
    "&#39;spam&#39; * 3"
   ]
  },
  {
   "cell_type": "code",
   "execution_count": 19,
   "id": "edc90f89-5871-4800-a7c7-6f10149bb4cd",
   "metadata": {},
   "outputs": [
    {
     "data": {
      "text/plain": [
       "'spamspamspam'"
      ]
     },
     "execution_count": 19,
     "metadata": {},
     "output_type": "execute_result"
    }
   ],
   "source": [
    "'spam'+'spamspam'"
   ]
  },
  {
   "cell_type": "code",
   "execution_count": 21,
   "id": "a2d4d5a2-adee-4f47-9682-f31e20ee5d04",
   "metadata": {},
   "outputs": [
    {
     "data": {
      "text/plain": [
       "'spamspamspam'"
      ]
     },
     "execution_count": 21,
     "metadata": {},
     "output_type": "execute_result"
    }
   ],
   "source": [
    "'spam'*3"
   ]
  },
  {
   "cell_type": "markdown",
   "id": "d208d86a-7660-46af-b8f7-cf6ecad411df",
   "metadata": {},
   "source": [
    "8. Why is eggs a valid variable name while 100 is invalid?"
   ]
  },
  {
   "cell_type": "markdown",
   "id": "5afd8c86-cb06-4d44-92e7-8a082420767e",
   "metadata": {},
   "source": [
    "Solution\n",
    "In python, there are some rules we need to follow when picking the name for a variable:\n",
    "\n",
    "The first character must start with an UPPERCASE or LOWERCASE letter of alphabet or UNDERSCORE(_)\n",
    "Rest of the name can consist of UPPERCASE or LOWERCASE letter of alphabet or UNDERSCORE(_) or DIGITS(0-9)\n",
    "Spaces are not allowed. Instead, use snake_case to make variable names readable.\n",
    "Names are case-sensitive. myworld and myWorld are not the same.\n",
    "The name of the variable should be something meaningful that describes the value it holds, instead of being random characters.\n",
    "Therefore,\n",
    "\n",
    "100 is invalid whereas eggs is a valid variable name."
   ]
  },
  {
   "cell_type": "code",
   "execution_count": 22,
   "id": "970e4e9c-7962-4ade-8fe8-f19ee325c88b",
   "metadata": {},
   "outputs": [
    {
     "ename": "SyntaxError",
     "evalue": "cannot assign to literal here. Maybe you meant '==' instead of '='? (3963641839.py, line 1)",
     "output_type": "error",
     "traceback": [
      "\u001b[0;36m  Cell \u001b[0;32mIn [22], line 1\u001b[0;36m\u001b[0m\n\u001b[0;31m    100 = \"num_100\"\u001b[0m\n\u001b[0m    ^\u001b[0m\n\u001b[0;31mSyntaxError\u001b[0m\u001b[0;31m:\u001b[0m cannot assign to literal here. Maybe you meant '==' instead of '='?\n"
     ]
    }
   ],
   "source": [
    "100 = \"num_100\""
   ]
  },
  {
   "cell_type": "code",
   "execution_count": 24,
   "id": "63f3e5ac-8b0f-40c8-8f9f-7a1ea73fe822",
   "metadata": {},
   "outputs": [
    {
     "data": {
      "text/plain": [
       "10"
      ]
     },
     "execution_count": 24,
     "metadata": {},
     "output_type": "execute_result"
    }
   ],
   "source": [
    "eggs=10\n",
    "eggs"
   ]
  },
  {
   "cell_type": "markdown",
   "id": "5b36a9e7-cf0a-47c4-98c1-8d292bd81ebd",
   "metadata": {},
   "source": [
    "9. What three functions can be used to get the integer, floating-point number, or string\n",
    "version of a value?"
   ]
  },
  {
   "cell_type": "markdown",
   "id": "54a4e173-8085-4079-a9c2-9ffd8525e702",
   "metadata": {},
   "source": [
    "Solution\n",
    "The int(),float(),str(), functions will evaluate to the integer,floating-point number,and string versions of the value passed to them\n"
   ]
  },
  {
   "cell_type": "markdown",
   "id": "066c0e7f-0f43-4f6a-8918-882f823918f4",
   "metadata": {},
   "source": [
    "10. Why does this expression cause an error? How can you fix it?\n",
    "&#39;I have eaten &#39; + 99 + &#39; burritos.&#39;"
   ]
  },
  {
   "cell_type": "markdown",
   "id": "2c1dd220-8285-4118-bcb0-edfb3787b6fb",
   "metadata": {},
   "source": [
    "Solution\n",
    "The expression causes an error because 99 is an integer,and only string can be concatenated to other strings with the + operator.The correct way is I have eaten'+ str(99) +'burritos.'"
   ]
  },
  {
   "cell_type": "code",
   "execution_count": 29,
   "id": "fc09bcb3-81b7-4809-8686-81e3caf6e8af",
   "metadata": {},
   "outputs": [
    {
     "data": {
      "text/plain": [
       "'I have eaten 99 burritos.'"
      ]
     },
     "execution_count": 29,
     "metadata": {},
     "output_type": "execute_result"
    }
   ],
   "source": [
    "'I have eaten ' + str(99) + ' burritos.'"
   ]
  },
  {
   "cell_type": "code",
   "execution_count": null,
   "id": "f36949bf-7f9f-445e-a2ce-8974375da115",
   "metadata": {},
   "outputs": [],
   "source": []
  }
 ],
 "metadata": {
  "kernelspec": {
   "display_name": "Python 3 (ipykernel)",
   "language": "python",
   "name": "python3"
  },
  "language_info": {
   "codemirror_mode": {
    "name": "ipython",
    "version": 3
   },
   "file_extension": ".py",
   "mimetype": "text/x-python",
   "name": "python",
   "nbconvert_exporter": "python",
   "pygments_lexer": "ipython3",
   "version": "3.10.6"
  }
 },
 "nbformat": 4,
 "nbformat_minor": 5
}
