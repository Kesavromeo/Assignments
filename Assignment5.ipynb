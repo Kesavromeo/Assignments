{
 "cells": [
  {
   "cell_type": "markdown",
   "id": "7c7f337c-0904-4679-a0a2-8727d3e4a82b",
   "metadata": {},
   "source": [
    "1. What does an empty dictionary's code look like?"
   ]
  },
  {
   "cell_type": "markdown",
   "id": "c7000528-a59f-493d-bbbe-0508eb773a36",
   "metadata": {},
   "source": [
    "Two curly brackets: {}"
   ]
  },
  {
   "cell_type": "markdown",
   "id": "62e33197-96db-44fb-8920-13e069b95bec",
   "metadata": {},
   "source": [
    "2. What is the value of a dictionary value with the key 'foo' and the value 42?"
   ]
  },
  {
   "cell_type": "code",
   "execution_count": 1,
   "id": "9aabd0f1-0372-4049-86e4-816cbe6b6f86",
   "metadata": {},
   "outputs": [
    {
     "name": "stdout",
     "output_type": "stream",
     "text": [
      "{'foo': 42}\n",
      "Values of dictionary : dict_values([42])\n"
     ]
    }
   ],
   "source": [
    "my_dict = {'foo' : 42}\n",
    "\n",
    "print(my_dict)\n",
    "print(f\"Values of dictionary : {my_dict.values()}\")"
   ]
  },
  {
   "cell_type": "markdown",
   "id": "1842a954-26a3-447e-8646-cd14540c9e2a",
   "metadata": {},
   "source": [
    "3. What is the most significant distinction between a dictionary and a list?"
   ]
  },
  {
   "cell_type": "markdown",
   "id": "216d8e82-aa37-4ca7-9a4f-c8b438494b25",
   "metadata": {},
   "source": [
    "Dictionaries are unordered collection of data points. It uses key, value structure to store the values.\n",
    "\n",
    "Lists have ordered items."
   ]
  },
  {
   "cell_type": "code",
   "execution_count": 2,
   "id": "319e3c37-b108-4026-a209-c65e14639b99",
   "metadata": {},
   "outputs": [
    {
     "data": {
      "text/plain": [
       "[1, 2, 3, 4]"
      ]
     },
     "execution_count": 2,
     "metadata": {},
     "output_type": "execute_result"
    }
   ],
   "source": [
    "my_list = [1,2,3,4]\n",
    "my_list"
   ]
  },
  {
   "cell_type": "code",
   "execution_count": 3,
   "id": "0681eab4-baa7-420f-9711-f0d1cd6a8e77",
   "metadata": {},
   "outputs": [
    {
     "data": {
      "text/plain": [
       "{'foo': 43, 'la': 42, 'a': 1}"
      ]
     },
     "execution_count": 3,
     "metadata": {},
     "output_type": "execute_result"
    }
   ],
   "source": [
    "my_dict = {'foo' : 43, 'la' : 42, 'a':1}\n",
    "my_dict"
   ]
  },
  {
   "cell_type": "markdown",
   "id": "b0aefc3e-89af-4516-8048-8d8ee8e2ee64",
   "metadata": {},
   "source": [
    "4. What happens if you try to access spam[&#39;foo&#39;] if spam is {&#39;bar&#39;: 100}?"
   ]
  },
  {
   "cell_type": "code",
   "execution_count": 4,
   "id": "76490779-27f6-4a4e-a060-8e154be6c8be",
   "metadata": {},
   "outputs": [
    {
     "data": {
      "text/plain": [
       "{'bar': 100}"
      ]
     },
     "execution_count": 4,
     "metadata": {},
     "output_type": "execute_result"
    }
   ],
   "source": [
    "# initialize dict\n",
    "my_dict = {'bar' : 100}\n",
    "my_dict"
   ]
  },
  {
   "cell_type": "code",
   "execution_count": 5,
   "id": "8879f70a-2afa-428a-90a6-22ff8da34704",
   "metadata": {},
   "outputs": [
    {
     "ename": "KeyError",
     "evalue": "'foo'",
     "output_type": "error",
     "traceback": [
      "\u001b[0;31m---------------------------------------------------------------------------\u001b[0m",
      "\u001b[0;31mKeyError\u001b[0m                                  Traceback (most recent call last)",
      "Cell \u001b[0;32mIn [5], line 2\u001b[0m\n\u001b[1;32m      1\u001b[0m \u001b[38;5;66;03m# accessing key 'foo'\u001b[39;00m\n\u001b[0;32m----> 2\u001b[0m \u001b[43mmy_dict\u001b[49m\u001b[43m[\u001b[49m\u001b[38;5;124;43m'\u001b[39;49m\u001b[38;5;124;43mfoo\u001b[39;49m\u001b[38;5;124;43m'\u001b[39;49m\u001b[43m]\u001b[49m\n",
      "\u001b[0;31mKeyError\u001b[0m: 'foo'"
     ]
    }
   ],
   "source": [
    "# accessing key 'foo'\n",
    "my_dict['foo']"
   ]
  },
  {
   "cell_type": "markdown",
   "id": "f09b00d4-1d67-4d30-86c3-7214ba7fe9eb",
   "metadata": {},
   "source": [
    "5. If a dictionary is stored in spam, what is the difference between the expressions 'cat' in spam and 'cat' in spam.keys()?"
   ]
  },
  {
   "cell_type": "markdown",
   "id": "731ac6e7-bcad-4c35-bc01-1541c18db231",
   "metadata": {},
   "source": [
    "There is no difference. The in operator checks whether a value exists as a key in the dictionary."
   ]
  },
  {
   "cell_type": "markdown",
   "id": "869b8b8b-fdd5-4184-bfc9-488b99ac0c1e",
   "metadata": {},
   "source": [
    "6. If a dictionary is stored in spam, what is the difference between the expressions 'cat' in spam and 'cat' in spam.values()?"
   ]
  },
  {
   "cell_type": "markdown",
   "id": "aeb0bfde-eaa8-45dc-9d52-7756db5f26d2",
   "metadata": {},
   "source": [
    "'cat' in spam checks whether there is a 'cat' key in the dictionary, while 'cat' in spam.values() checks whether there is a value 'cat' for one of the keys in spam."
   ]
  },
  {
   "cell_type": "markdown",
   "id": "8ea0940e-acec-4583-b0b0-6d4da3594a12",
   "metadata": {},
   "source": [
    "7. What is a shortcut for the following code?\n",
    "if &#39;color&#39; not in spam:\n",
    "spam[&#39;color&#39;] = &#39;black&#39;"
   ]
  },
  {
   "cell_type": "code",
   "execution_count": 9,
   "id": "be945ce5-0c03-49c0-9865-da37d0035c53",
   "metadata": {},
   "outputs": [
    {
     "data": {
      "text/plain": [
       "'black'"
      ]
     },
     "execution_count": 7,
     "metadata": {},
     "output_type": "execute_result"
    }
   ],
   "source": [
    "help(dict.setdefault)"
   ]
  },
  {
   "cell_type": "code",
   "execution_count": 9,
   "id": "4673cdcd",
   "metadata": {},
   "outputs": [
    {
     "data": {
      "text/plain": [
       "'black'"
      ]
     },
     "execution_count": 7,
     "metadata": {},
     "output_type": "execute_result"
    }
   ],
   "source": [
    "help(dict.setdefault)"
   ]
  },
  {
   "cell_type": "code",
   "execution_count": 8,
   "id": "555880e4-a47a-4598-b29a-5787d12f9407",
   "metadata": {},
   "outputs": [
    {
     "data": {
      "text/plain": [
       "{'color': 'black'}"
      ]
     },
     "execution_count": 8,
     "metadata": {},
     "output_type": "execute_result"
    }
   ],
   "source": [
    "spam"
   ]
  },
  {
   "cell_type": "markdown",
   "id": "d19942c7-a12f-41e5-875e-f704c4876f3c",
   "metadata": {},
   "source": [
    "8. How do you &quot;pretty print&quot; dictionary values using which module and function?"
   ]
  },
  {
   "cell_type": "markdown",
   "id": "9a1b236e-9947-495f-bcf6-58a6f7513742",
   "metadata": {},
   "source": [
    "Using \"json\" module."
   ]
  },
  {
   "cell_type": "code",
   "execution_count": 10,
   "id": "be7818cc-404f-47bf-8c70-5d5d37cd848d",
   "metadata": {},
   "outputs": [],
   "source": [
    "my_dict = {'a' : {'name': 'Anne', 'Age': 22}, 'b' : {'name': 'Luke', 'Age': 55}}"
   ]
  },
  {
   "cell_type": "code",
   "execution_count": 11,
   "id": "bab6b4a2-711f-4fb4-9729-4c25c38ed048",
   "metadata": {},
   "outputs": [
    {
     "name": "stdout",
     "output_type": "stream",
     "text": [
      "{'a': {'name': 'Anne', 'Age': 22}, 'b': {'name': 'Luke', 'Age': 55}}\n"
     ]
    }
   ],
   "source": [
    "print(my_dict)"
   ]
  },
  {
   "cell_type": "code",
   "execution_count": 12,
   "id": "8fbb9cf2-ad02-4989-968a-9eb0cf877b95",
   "metadata": {},
   "outputs": [
    {
     "name": "stdout",
     "output_type": "stream",
     "text": [
      "{\n",
      "    \"a\": {\n",
      "        \"name\": \"Anne\",\n",
      "        \"Age\": 22\n",
      "    },\n",
      "    \"b\": {\n",
      "        \"name\": \"Luke\",\n",
      "        \"Age\": 55\n",
      "    }\n",
      "}\n"
     ]
    }
   ],
   "source": [
    "import json\n",
    "\n",
    "print(json.dumps(my_dict, indent=4))"
   ]
  },
  {
   "cell_type": "code",
   "execution_count": null,
   "id": "210dec83-e0d0-4ee5-9f3c-131ccd73b213",
   "metadata": {},
   "outputs": [],
   "source": []
  }
 ],
 "metadata": {
  "kernelspec": {
   "display_name": "Python 3 (ipykernel)",
   "language": "python",
   "name": "python3"
  },
  "language_info": {
   "codemirror_mode": {
    "name": "ipython",
    "version": 3
   },
   "file_extension": ".py",
   "mimetype": "text/x-python",
   "name": "python",
   "nbconvert_exporter": "python",
   "pygments_lexer": "ipython3",
   "version": "3.10.6"
  }
 },
 "nbformat": 4,
 "nbformat_minor": 5
}
