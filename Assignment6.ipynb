{
 "cells": [
  {
   "cell_type": "markdown",
   "id": "97d600d0-0525-47fe-bd58-23c789b82f93",
   "metadata": {},
   "source": [
    "Q.1. What are keywords in python? Using the keyword library, print all the python keywords."
   ]
  },
  {
   "cell_type": "markdown",
   "id": "48ad85f8-6c73-48cf-9978-87322402138c",
   "metadata": {},
   "source": [
    "Python keywords are reserved words that have a special meaning associated with them and can’t be used for anything but those specific purposes. Each keyword is designed to achieve specific functionality. Python keywords are case-sensitive. All keywords contain only letters (no special symbols)."
   ]
  },
  {
   "cell_type": "code",
   "execution_count": 1,
   "id": "88ae5a82-de2c-4257-9aeb-4ad4a188eb4c",
   "metadata": {},
   "outputs": [
    {
     "name": "stdout",
     "output_type": "stream",
     "text": [
      "['False', 'None', 'True', 'and', 'as', 'assert', 'async', 'await', 'break', 'class', 'continue', 'def', 'del', 'elif', 'else', 'except', 'finally', 'for', 'from', 'global', 'if', 'import', 'in', 'is', 'lambda', 'nonlocal', 'not', 'or', 'pass', 'raise', 'return', 'try', 'while', 'with', 'yield']\n"
     ]
    }
   ],
   "source": [
    "import keyword\n",
    "\n",
    "print(keyword.kwlist)"
   ]
  },
  {
   "cell_type": "markdown",
   "id": "7327254a-0b9c-4563-b879-654dac92e5d1",
   "metadata": {},
   "source": [
    "Q.2. What are the rules to create variables in python?"
   ]
  },
  {
   "cell_type": "markdown",
   "id": "59468c9f-4f03-4455-8abd-4caced27c84c",
   "metadata": {},
   "source": [
    "Variables are containers for storing data values.\n",
    "\n",
    "A variable name must start with a letter or the underscore character.\n",
    "\n",
    "A variable name cannot start with a number.\n",
    "\n",
    "A variable name can only contain alpha-numeric characters and underscores (A-z, 0-9, and _ ).\n",
    "\n",
    "Variable names are case-sensitive (name, Name and NAME are three different variables).\n",
    "\n",
    "Variable names that use multiple words in Python should be separated with an underscore _.\n",
    "\n",
    "Ex:\n",
    "\n",
    "name = \"Ram\"\n",
    "\n",
    "user_name = \"Ram\"\n",
    "\n",
    "name2 = \"Ram\"\n"
   ]
  },
  {
   "cell_type": "markdown",
   "id": "78fda6af-b10a-4f03-8583-dbe5b8ff07dc",
   "metadata": {},
   "source": [
    "Q.3. What are the standards and conventions followed for the nomenclature of variables in\n",
    "python to improve code readability and maintainability?"
   ]
  },
  {
   "cell_type": "markdown",
   "id": "d7a61666-9f10-4083-b418-1ffead3bb902",
   "metadata": {},
   "source": [
    "Python follows certain standards and conventions for naming variables to improve code readability and maintainability. Here are some of the rules:\n",
    "\n",
    "A variable name must start with a letter or the underscore character.\n",
    "\n",
    "A variable name cannot start with a number.\n",
    "\n",
    "A variable name can only contain alpha-numeric characters and underscores (A-z, 0-9, and _).\n",
    "\n",
    "Officially, variable names in Python can be any length and can consist of uppercase and lowercase letters (A-Z, a-z), digits (0-9), and the underscore character (_).\n",
    "\n",
    "Although a variable name can contain digits, the first character of a variable name cannot be a digit.\n",
    "\n",
    "In addition to these rules, Python follows the snake_case naming convention as per the PEP8 style guide. This means that all words in the name are in lowercase, and each word is separated by an underscore"
   ]
  },
  {
   "cell_type": "markdown",
   "id": "c1bf9bf0-62f8-4fd2-8722-89fcbff7b74c",
   "metadata": {},
   "source": [
    "Q.4. What will happen if a keyword is used as a variable name?"
   ]
  },
  {
   "cell_type": "markdown",
   "id": "9962a800-8316-43c9-a4fa-b928d77f2cba",
   "metadata": {},
   "source": [
    "We cannot use a keyword as a variable name, function name, or any other identifier. They are used to define the syntax and structure of the Python language.\n",
    "When a programmer attempts to use a keyword for a variable or function name, a compilation error will be triggered. Keywords have predefined meanings, so they cannot be used as variable names.\n"
   ]
  },
  {
   "cell_type": "markdown",
   "id": "f0ff147f-ca17-4e7b-a829-182e28e61db6",
   "metadata": {},
   "source": [
    "Q.5. For what purpose def keyword is used?"
   ]
  },
  {
   "cell_type": "markdown",
   "id": "3000897f-1abb-4a4a-a2bc-1fa315ef0b6c",
   "metadata": {},
   "source": [
    "Python def keyword is used to define a function, it is placed before a function name that is provided by the user to create a user-defined function."
   ]
  },
  {
   "cell_type": "markdown",
   "id": "3c145d3b-4dfe-4f15-963d-24075e0d34ba",
   "metadata": {},
   "source": [
    "Q.6. What is the operation of this special character ‘\\’?"
   ]
  },
  {
   "cell_type": "markdown",
   "id": "3c875e8b-26a2-4a8d-9a5c-529d9b9e7724",
   "metadata": {},
   "source": [
    "In Python, the backslash character \\ is a special character also called \"escape\" character.it is used in representing certain whitspace.used as a part of a special sequence such as \\t is a tab and \\n is a newline. "
   ]
  },
  {
   "cell_type": "markdown",
   "id": "57d5f375-005a-4d50-9a10-36a317896544",
   "metadata": {},
   "source": [
    "Q.7. Give an example of the following conditions:\n",
    "(i) Homogeneous list\n",
    "(ii) Heterogeneous set\n",
    "(iii) Homogeneous tuple"
   ]
  },
  {
   "cell_type": "markdown",
   "id": "9ac5e996-0db6-47cf-8986-730c173435d8",
   "metadata": {},
   "source": [
    "(i) Homogeneous list: A list containing only integers or only strings is an example of a homogeneous list. For example, [1, 2, 3] or ['apple', 'banana', 'cherry'].\n",
    "\n",
    "(ii) Heterogeneous set: A set containing elements of different data types is an example of a heterogeneous set. For example, {1, 'apple', 3.14}.\n",
    "\n",
    "(iii) Homogeneous tuple: A tuple containing elements of the same data type is an example of a homogeneous tuple. For example, (1, 2, 3) or ('apple', 'banana', 'cherry')"
   ]
  },
  {
   "cell_type": "markdown",
   "id": "c08c28d2-47c1-46bc-a752-360e959db243",
   "metadata": {},
   "source": [
    "Q.8. Explain the mutable and immutable data types with proper explanation & examples."
   ]
  },
  {
   "cell_type": "markdown",
   "id": "17107f1b-60ae-45c4-bc1f-8d256325a20b",
   "metadata": {},
   "source": [
    "In Python, mutable data types are those whose values can be changed after they are created. Examples of mutable data types include lists, sets, and dictionaries. When you modify a mutable object, you are actually changing the object itself. For example, if you have a list my_list = [1, 2, 3], you can change the value of the second element by doing my_list[1] = 4. The list is modified in place and now contains [1, 4, 3]\n",
    "\n",
    "immutable data types are those whose values cannot be changed after they are created. Examples of immutable data types include integers, floats, strings, and tuples. When you modify an immutable object, you are actually creating a new object with the modified value. For example, if you have a string my_string = \"hello\", you can create a new string with the first letter capitalized by doing new_string = my_string.capitalize(). The original string is not modified and still contains \"hello\""
   ]
  },
  {
   "cell_type": "code",
   "execution_count": null,
   "id": "6261b4ca-d1de-46eb-b1bb-70233827e7c8",
   "metadata": {},
   "outputs": [],
   "source": [
    "Q.9. Write a code to create the given structure using only for loop.\n",
    "*\n",
    "***\n",
    "*****\n",
    "*******\n",
    "*********"
   ]
  },
  {
   "cell_type": "code",
   "execution_count": 11,
   "id": "657bf0ec-a0f6-42c9-b6d0-cbe9365d56a7",
   "metadata": {},
   "outputs": [
    {
     "name": "stdout",
     "output_type": "stream",
     "text": [
      "    *\n",
      "\n",
      "   ***\n",
      "\n",
      "  *****\n",
      "\n",
      " *******\n",
      "\n",
      "*********\n",
      "\n"
     ]
    }
   ],
   "source": [
    "for i in range (1,6):\n",
    "    for k in range (1, 6-i):\n",
    "        print(\" \",end=\"\")\n",
    "    for j in range(1, (2*i-1)+1):\n",
    "            print(\"*\",end=\"\")\n",
    "    print(\"\\n\")\n"
   ]
  },
  {
   "cell_type": "code",
   "execution_count": null,
   "id": "79dee1bb-f474-455e-acf6-27ccd47c4d57",
   "metadata": {},
   "outputs": [],
   "source": [
    "Q.10. Write a code to create the given structure using while loop.\n",
    "|||||||||\n",
    "|||||||\n",
    "|||||\n",
    "|||\n",
    "|"
   ]
  },
  {
   "cell_type": "code",
   "execution_count": 13,
   "id": "b9375716-238c-4a64-ac35-9b977a2d2e7a",
   "metadata": {},
   "outputs": [
    {
     "name": "stdout",
     "output_type": "stream",
     "text": [
      "|||||||||\n",
      "|||||||\n",
      "|||||\n",
      "|||\n",
      "|\n"
     ]
    }
   ],
   "source": [
    "i = 9\n",
    "while i >= 1:\n",
    "    j = i\n",
    "    while j >= 1:\n",
    "        print(\"|\", end=\"\")\n",
    "        j -= 1\n",
    "    print()\n",
    "    i -= 2\n"
   ]
  },
  {
   "cell_type": "code",
   "execution_count": null,
   "id": "9a0ac0ab-f990-4e12-b3e1-60e893233a2f",
   "metadata": {},
   "outputs": [],
   "source": []
  }
 ],
 "metadata": {
  "kernelspec": {
   "display_name": "Python 3 (ipykernel)",
   "language": "python",
   "name": "python3"
  },
  "language_info": {
   "codemirror_mode": {
    "name": "ipython",
    "version": 3
   },
   "file_extension": ".py",
   "mimetype": "text/x-python",
   "name": "python",
   "nbconvert_exporter": "python",
   "pygments_lexer": "ipython3",
   "version": "3.10.6"
  }
 },
 "nbformat": 4,
 "nbformat_minor": 5
}
