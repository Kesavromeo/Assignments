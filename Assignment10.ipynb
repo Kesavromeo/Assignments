{
 "cells": [
  {
   "cell_type": "markdown",
   "id": "f4dd4e33-2fd2-4a0c-be91-b8c8a9030981",
   "metadata": {},
   "source": [
    "1. What is the role of try and exception block?"
   ]
  },
  {
   "cell_type": "markdown",
   "id": "a5313ebf-c877-47c2-816d-a1ddb76b2338",
   "metadata": {},
   "source": [
    "In Python, the try and except blocks are used for error handling. The try block contains the code that might raise an exception, and the except block contains the code that will be executed if an exception is raised. The basic syntax of a try-except block in Python is as follows:"
   ]
  },
  {
   "cell_type": "code",
   "execution_count": null,
   "id": "a81a78d3-cd73-44eb-a7ea-fb22c0832858",
   "metadata": {},
   "outputs": [],
   "source": [
    "try:\n",
    "    # some code that might raise an exception\n",
    "except ExceptionType:\n",
    "    # code to handle the exception\n"
   ]
  },
  {
   "cell_type": "markdown",
   "id": "5207f9b6-2412-401a-9b7b-858359d64ec5",
   "metadata": {},
   "source": [
    "If an exception of type ExceptionType is raised in the try block, then the code in the corresponding except block will be executed. If no exception is raised, then the code in the except block will be skipped.\n",
    "\n",
    "The try-except block can also have an optional else clause that contains code that will be executed if no exception is raised in the try block. Additionally, there is an optional finally clause that contains code that will be executed regardless of whether an exception was raised or not."
   ]
  },
  {
   "cell_type": "markdown",
   "id": "9b338566-fdc2-478f-b345-a244ee6043bc",
   "metadata": {},
   "source": [
    "2. What is the syntax for a basic try-except block?"
   ]
  },
  {
   "cell_type": "code",
   "execution_count": null,
   "id": "4ecbee26-bf07-4f76-815e-ce4b9a490bfd",
   "metadata": {},
   "outputs": [],
   "source": [
    "try:\n",
    "    # some code that might raise an exception\n",
    "except ExceptionType:\n",
    "    # code to handle the exception\n"
   ]
  },
  {
   "cell_type": "markdown",
   "id": "c54e7dea-f9da-4606-ac62-adc56d5510b0",
   "metadata": {},
   "source": [
    "3. What happens if an exception occurs inside a try block and there is no matching\n",
    "except block?"
   ]
  },
  {
   "cell_type": "markdown",
   "id": "9bf15bc5-78fd-4780-9602-3f02034d6f89",
   "metadata": {},
   "source": [
    "If an exception occurs inside a try block and there is no matching except block, the exception will be propagated up the call stack until it is caught by an except block that can handle it. If there is no such block, the program will terminate and an error message will be displayed."
   ]
  },
  {
   "cell_type": "markdown",
   "id": "e6dd7788-207c-49d7-9485-e1fb37361955",
   "metadata": {},
   "source": [
    "4. What is the difference between using a bare except block and specifying a specific\n",
    "exception type?"
   ]
  },
  {
   "cell_type": "markdown",
   "id": "03625acf-10a6-469a-8f6d-56963ba07434",
   "metadata": {},
   "source": [
    "When you use a bare except block, you are catching all exceptions that might be raised by the code inside the try block. This can be dangerous because it can mask errors that you might not have anticipated. It’s generally better to catch only the specific exceptions that you know how to handle.\n",
    "\n",
    "For example, if you’re trying to read a file and it doesn’t exist, you might want to catch the FileNotFoundError exception. If you catch all exceptions instead, you might accidentally catch an unrelated exception (such as a KeyboardInterrupt) and mask the real problem.\n",
    "\n",
    "Here’s an example of how to catch a specific exception:"
   ]
  },
  {
   "cell_type": "code",
   "execution_count": null,
   "id": "842812be-8d75-43df-8186-c51ab9cf58ab",
   "metadata": {},
   "outputs": [],
   "source": [
    "try:\n",
    "    # some code that might raise an exception\n",
    "except FileNotFoundError:\n",
    "    # code to handle the FileNotFoundError\n"
   ]
  },
  {
   "cell_type": "markdown",
   "id": "e74f6a32-94f2-4cd7-8890-b87c8925ee8b",
   "metadata": {},
   "source": [
    "5. Can you have nested try-except blocks in Python? If yes, then give an example."
   ]
  },
  {
   "cell_type": "code",
   "execution_count": null,
   "id": "87a04d88-e94e-44ce-a5f0-88c6977c9052",
   "metadata": {},
   "outputs": [],
   "source": [
    "#yes,nested try-except blocks in python\n",
    "try:\n",
    "    # some code that might raise an exception\n",
    "    try:\n",
    "        # some more code that might raise an exception\n",
    "    except SomeException:\n",
    "        # code to handle the SomeException\n",
    "except AnotherException:\n",
    "    # code to handle the AnotherException\n"
   ]
  },
  {
   "cell_type": "markdown",
   "id": "a512a1cd-2498-4927-9054-8cfda47907ef",
   "metadata": {},
   "source": [
    "6. Can we use multiple exception blocks, if yes then give an example."
   ]
  },
  {
   "cell_type": "code",
   "execution_count": null,
   "id": "51cc4228-ceca-4f3a-a1f8-95d882747679",
   "metadata": {},
   "outputs": [],
   "source": [
    "try:\n",
    "    # some code that might raise an exception\n",
    "except ExceptionType1:\n",
    "    # code to handle ExceptionType1\n",
    "except ExceptionType2:\n",
    "    # code to handle ExceptionType2\n",
    "except ExceptionType3:\n",
    "    # code to handle ExceptionType3\n"
   ]
  },
  {
   "cell_type": "markdown",
   "id": "1707b523-b805-44ae-bf4b-a07c1f0da873",
   "metadata": {},
   "source": [
    "7. Write the reason due to which following errors are raised:"
   ]
  },
  {
   "cell_type": "markdown",
   "id": "ee83f6bb-b9d3-4524-9ea3-6e21cb5272a1",
   "metadata": {},
   "source": [
    "A. EOFError:\n",
    "\n",
    "            EOFError is raised when the input() function hits the end-of-file condition (EOF) without reading any data. This can happen when you try to read from an empty file or when you try to read from a stream that has no more data to read."
   ]
  },
  {
   "cell_type": "markdown",
   "id": "265cdbcd-b19f-4f21-ad98-84b3e581541f",
   "metadata": {},
   "source": [
    "B. FloatingPointError\n",
    "                   \n",
    "                   `FloatingPointError` is raised when a floating-point operation fails to produce a valid result. This can happen when you try to divide a number by zero or when you try to take the square root of a negative number.\n"
   ]
  },
  {
   "cell_type": "markdown",
   "id": "303f406c-6dd8-45d9-8068-fbedd9517361",
   "metadata": {},
   "source": [
    "C. IndexError\n",
    "             \n",
    "            `IndexError` is raised when you try to access an index that is out of range for a list or other sequence type. For example, if you have a list with three elements and you try to access the fourth element (which doesn't exist), you will get an `IndexError`.\n",
    "\n",
    "\n",
    "              "
   ]
  },
  {
   "cell_type": "markdown",
   "id": "f0f0fada-8ce5-4d73-ab78-7af2565503ea",
   "metadata": {},
   "source": [
    "D. MemoryError"
   ]
  },
  {
   "cell_type": "markdown",
   "id": "fd4aa113-e488-43af-9788-4bd40f2922f8",
   "metadata": {},
   "source": [
    "                \n",
    "                MemoryError is raised when your program runs out of memory. This can happen when you try to allocate more memory than is available on your system or when you have a memory leak in your program."
   ]
  },
  {
   "cell_type": "markdown",
   "id": "fd44676e-6a11-4193-8e06-e5d561d27afc",
   "metadata": {},
   "source": [
    "E. OverflowError\n",
    "                    \n",
    "                    `OverflowError` is raised when a calculation exceeds the maximum representable value for a numeric type. For example, if you try to calculate `2**1000000`, you will get an `OverflowError` because the result is too large to be represented as an integer.\n"
   ]
  },
  {
   "cell_type": "markdown",
   "id": "177a86dd-7344-4ed9-b457-f62f634d7454",
   "metadata": {},
   "source": [
    "F. TabError\n",
    "          \n",
    "          A `TabError` is raised when there is an inconsistent use of tabs and spaces in indentation. This error occurs when you try to indent code using both spaces and tabs. You can fix this error by sticking\n",
    "            "
   ]
  },
  {
   "cell_type": "markdown",
   "id": "ca8e755a-5a2a-4213-9bc7-64075c668306",
   "metadata": {},
   "source": [
    "G. ValueError\n",
    "\n",
    "                ValueError in Python is raised when a user gives an invalid value to a function but is of a valid argument. It usually occurs in mathematical operations that will require a certain kind of value, even when the value is the correct argument."
   ]
  },
  {
   "cell_type": "markdown",
   "id": "0b79f123-5a6c-4c13-8208-a5dfcef793f2",
   "metadata": {},
   "source": [
    "8. Write code for the following given scenario and add try-exception block to it.\n",
    "\n",
    "a. Program to divide two numbers"
   ]
  },
  {
   "cell_type": "code",
   "execution_count": 7,
   "id": "3e2499f9-15f5-4680-9b8d-218a49747030",
   "metadata": {},
   "outputs": [
    {
     "name": "stdin",
     "output_type": "stream",
     "text": [
      "Enter the dividend:  50\n",
      "Enter the divisor:  5\n"
     ]
    },
    {
     "name": "stdout",
     "output_type": "stream",
     "text": [
      "The result of 50.0 divided by 5.0 is: 10.0\n"
     ]
    }
   ],
   "source": [
    "def divide_numbers(dividend, divisor):\n",
    "    try:\n",
    "        result = dividend / divisor\n",
    "        return result\n",
    "    except ZeroDivisionError:\n",
    "        print(\"Error: Cannot divide by zero\")\n",
    "        return None\n",
    "    except Exception as e:\n",
    "        print(f\"Error occurred: {str(e)}\")\n",
    "        return None\n",
    "\n",
    "# Example usage\n",
    "num1 = float(input(\"Enter the dividend: \"))\n",
    "num2 = float(input(\"Enter the divisor: \"))\n",
    "\n",
    "result = divide_numbers(num1, num2)\n",
    "if result is not None:\n",
    "    print(f\"The result of {num1} divided by {num2} is: {result}\")\n"
   ]
  },
  {
   "cell_type": "markdown",
   "id": "45a3b228-9158-485a-bd47-47742663636a",
   "metadata": {},
   "source": [
    "b. Program to convert a string to an integer"
   ]
  },
  {
   "cell_type": "code",
   "execution_count": null,
   "id": "b9a5dfb9-15a9-40a3-afcc-b12e77a8eb82",
   "metadata": {},
   "outputs": [],
   "source": [
    "s = input(\"Enter a string: \")\n",
    "try:\n",
    "    i = int(s)\n",
    "    print(\"The integer value is:\", i)\n",
    "except ValueError:\n",
    "    print(\"The string cannot be converted to integer\")"
   ]
  },
  {
   "cell_type": "markdown",
   "id": "1c2d396a-b137-44ac-9597-ec68907a9995",
   "metadata": {},
   "source": [
    "c. Program to access an element in a list"
   ]
  },
  {
   "cell_type": "code",
   "execution_count": null,
   "id": "4aa47d34-8320-454c-bb51-3b7433e3ebd0",
   "metadata": {},
   "outputs": [],
   "source": [
    "numbers = [10, 20, 30, 40, 50]\n",
    "index = int(input(\"Enter an index: \"))\n",
    "\n",
    "try:\n",
    "    element = numbers[index]\n",
    "    print(\"The element at index\", index, \"is:\", element)\n",
    "except IndexError:\n",
    "    print(\"The index is out of range\")\n"
   ]
  },
  {
   "cell_type": "markdown",
   "id": "fb92c430-738e-4e32-a77d-f18f50fd2964",
   "metadata": {},
   "source": [
    "d. Program to handle a specific exception"
   ]
  },
  {
   "cell_type": "code",
   "execution_count": null,
   "id": "9dc5e2a8-f33e-4b0b-a819-957b356428f4",
   "metadata": {},
   "outputs": [],
   "source": [
    "num1 = int(input(\"Enter the first number: \"))\n",
    "num2 = int(input(\"Enter the second number: \"))\n",
    "try:\n",
    "    result = num1 / num2\n",
    "    print(\"The result of division is:\", result)\n",
    "except ZeroDivisionError:\n",
    "    print(\"The second number cannot be zero\")\n",
    "except Exception as e:\n",
    "    print(\"An unexpected error occurred:\", e)\n"
   ]
  },
  {
   "cell_type": "markdown",
   "id": "5372592a-005e-4e25-9029-2c38c6cfe7fa",
   "metadata": {},
   "source": [
    "e. Program to handle any exception"
   ]
  },
  {
   "cell_type": "code",
   "execution_count": null,
   "id": "42f0565d-e06f-413c-8ba9-6983108ecff3",
   "metadata": {},
   "outputs": [],
   "source": [
    "s = input(\"Enter a string: \")\n",
    "try:\n",
    "    s = s.upper()\n",
    "    print(\"The uppercase string is:\", s)\n",
    "    s = s[::-1]\n",
    "    print(\"The reversed string is:\", s)\n",
    "    i = int(s)\n",
    "    print(\"The integer value is:\", i)\n",
    "except Exception as e:\n",
    "    print(\"An error occurred:\", e)\n"
   ]
  }
 ],
 "metadata": {
  "kernelspec": {
   "display_name": "Python 3 (ipykernel)",
   "language": "python",
   "name": "python3"
  },
  "language_info": {
   "codemirror_mode": {
    "name": "ipython",
    "version": 3
   },
   "file_extension": ".py",
   "mimetype": "text/x-python",
   "name": "python",
   "nbconvert_exporter": "python",
   "pygments_lexer": "ipython3",
   "version": "3.10.6"
  }
 },
 "nbformat": 4,
 "nbformat_minor": 5
}
