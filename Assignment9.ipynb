{
 "cells": [
  {
   "cell_type": "markdown",
   "id": "ffc74895-bf02-499d-bcbe-6c2adc6d60a7",
   "metadata": {},
   "source": [
    "1. What is a lambda function in Python, and how does it differ from a regular function?"
   ]
  },
  {
   "cell_type": "markdown",
   "id": "1975e435-2d5b-4fa7-b418-8f960f9614e1",
   "metadata": {},
   "source": [
    "A lambda function is a small anonymous function in Python that can have any number of arguments but can only have one expression. It is defined using the lambda keyword instead of the def keyword used for defining regular functions. The lambda function is used when an anonymous function is required for a short period of time. It is often used as an argument to higher-order functions that take functions as arguments (such as map, filter, and reduce) .\n",
    "\n",
    "The main difference between a lambda function and a regular function is that a lambda function can be written in one line and does not require a return statement. In contrast, a regular function can have multiple lines of code and requires a return statement ."
   ]
  },
  {
   "cell_type": "markdown",
   "id": "17ea0e24-ec4d-42cb-91da-d6e128ab6bd5",
   "metadata": {},
   "source": [
    "2. Can a lambda function in Python have multiple arguments? If yes, how can you define and use\n",
    "them?"
   ]
  },
  {
   "cell_type": "markdown",
   "id": "2cfd0c1f-480b-40d2-b211-a6bfcd1d37c6",
   "metadata": {},
   "source": [
    "Yes, a lambda function in Python can have multiple arguments. You can create a lambda function with multiple arguments by listing the arguments separated by commas after the lambda keyword. The expression that follows the colon is evaluated and returned as the result of the function."
   ]
  },
  {
   "cell_type": "code",
   "execution_count": 1,
   "id": "088b9fe7-ed90-48fa-8378-5919941a51f2",
   "metadata": {},
   "outputs": [
    {
     "name": "stdout",
     "output_type": "stream",
     "text": [
      "15\n"
     ]
    }
   ],
   "source": [
    "sum = lambda x, y: x + y\n",
    "print(sum(5, 10))"
   ]
  },
  {
   "cell_type": "markdown",
   "id": "252cca8e-2d65-42ae-971b-b1d092f04f16",
   "metadata": {},
   "source": [
    "3. How are lambda functions typically used in Python? Provide an example use case."
   ]
  },
  {
   "cell_type": "markdown",
   "id": "861438c0-b44c-4c43-852c-e524bde05c8b",
   "metadata": {},
   "source": [
    "Lambda functions are typically used in Python when an anonymous function is required for a short period of time. They are often used as an argument to higher-order functions that take functions as arguments (such as map, filter, and reduce)"
   ]
  },
  {
   "cell_type": "markdown",
   "id": "47ae7f55-0033-4482-baf0-85664a7c598c",
   "metadata": {},
   "source": [
    "Converting a string to uppercase using the upper() method"
   ]
  },
  {
   "cell_type": "code",
   "execution_count": 2,
   "id": "f34c1645-d170-4fd4-872f-8521ab722233",
   "metadata": {},
   "outputs": [
    {
     "name": "stdout",
     "output_type": "stream",
     "text": [
      "HELLO WORLD\n"
     ]
    }
   ],
   "source": [
    "upper = lambda string: string.upper()\n",
    "print(upper('hello world'))\n"
   ]
  },
  {
   "cell_type": "markdown",
   "id": "f1a19e27-1954-4858-b84f-70ce0bdaa6dd",
   "metadata": {},
   "source": [
    "Squaring each element in a list using the map() function"
   ]
  },
  {
   "cell_type": "code",
   "execution_count": 3,
   "id": "c69f0a4a-7830-4582-aee4-7d80e0874833",
   "metadata": {},
   "outputs": [
    {
     "name": "stdout",
     "output_type": "stream",
     "text": [
      "[1, 4, 9, 16, 25]\n"
     ]
    }
   ],
   "source": [
    "numbers = [1, 2, 3, 4, 5]\n",
    "squared_numbers = list(map(lambda x: x**2, numbers))\n",
    "print(squared_numbers)\n"
   ]
  },
  {
   "cell_type": "markdown",
   "id": "639ea830-c41d-4986-9c5a-e8027d5a82e1",
   "metadata": {},
   "source": [
    "Sorting a list of tuples based on the second element of each tuple"
   ]
  },
  {
   "cell_type": "code",
   "execution_count": 4,
   "id": "e92763e7-9684-4853-bd8f-7de4d79c902a",
   "metadata": {},
   "outputs": [
    {
     "name": "stdout",
     "output_type": "stream",
     "text": [
      "[('Bob', 19), ('Charlie', 21), ('Alice', 23)]\n"
     ]
    }
   ],
   "source": [
    "students = [('Alice', 23), ('Bob', 19), ('Charlie', 21)]\n",
    "students.sort(key=lambda x: x[1])\n",
    "print(students)\n"
   ]
  },
  {
   "cell_type": "markdown",
   "id": "e4fb77cb-c881-4516-abf7-45dbb2acd2e9",
   "metadata": {},
   "source": [
    "4. What are the advantages and limitations of lambda functions compared to regular functions in\n",
    "Python?"
   ]
  },
  {
   "cell_type": "markdown",
   "id": "05c0e549-ec23-42a2-a34d-009a66d3a059",
   "metadata": {},
   "source": [
    "Lambda functions have some advantages over regular functions, but they also have limitations. The main advantage is their concise and readable syntax, which makes them ideal for simple operations.However, lambda functions can only contain a single expression and cannot include statements, making them less suitable for complex operations"
   ]
  },
  {
   "cell_type": "markdown",
   "id": "b401459c-2d9c-49a0-accb-3ee6e2dc452f",
   "metadata": {},
   "source": [
    "Here are some advantages of lambda functions:\n",
    "\n",
    "Concise and readable syntax.\n",
    "\n",
    "Can be used as an argument to higher-order functions that take functions as arguments (such as map, filter, and reduce).\n",
    "\n",
    "Can be used to create small, one-time-use functions"
   ]
  },
  {
   "cell_type": "markdown",
   "id": "87aab682-a6ab-4fab-b470-a5a3e7f8e31a",
   "metadata": {},
   "source": [
    "Here are some limitations of lambda functions:\n",
    "\n",
    "Can only contain a single expression.\n",
    "\n",
    "Cannot include statements 2.\n",
    "\n",
    "Lack names and documentation, making them less readable than regular functions.\n",
    "Cannot use some readable language features such as tuple unpacking "
   ]
  },
  {
   "cell_type": "markdown",
   "id": "17850e97-4ac2-46d5-bd98-4dffdaf005bf",
   "metadata": {},
   "source": [
    "5. Are lambda functions in Python able to access variables defined outside of their own scope?\n",
    "Explain with an example."
   ]
  },
  {
   "cell_type": "markdown",
   "id": "b98e0935-ffae-4fb8-a338-17b5e1ef3b0b",
   "metadata": {},
   "source": [
    "Yes, lambda functions in Python are able to access variables defined outside of their own scope. This is known as a closure . Here’s an example:"
   ]
  },
  {
   "cell_type": "code",
   "execution_count": 5,
   "id": "e30f1a4e-ebb6-44b3-8e84-15d5cabc9ce8",
   "metadata": {},
   "outputs": [
    {
     "name": "stdout",
     "output_type": "stream",
     "text": [
      "15\n"
     ]
    }
   ],
   "source": [
    "def outer_function(x):\n",
    "    def inner_function(y):\n",
    "        return x + y\n",
    "    return inner_function\n",
    "\n",
    "closure = outer_function(10)\n",
    "print(closure(5))\n"
   ]
  },
  {
   "cell_type": "markdown",
   "id": "c4145b57-fa11-4489-93be-47741600d1bc",
   "metadata": {},
   "source": [
    "6. Write a lambda function to calculate the square of a given number."
   ]
  },
  {
   "cell_type": "code",
   "execution_count": 6,
   "id": "64af3a44-39d6-4de2-8883-ca51d666a072",
   "metadata": {},
   "outputs": [
    {
     "name": "stdout",
     "output_type": "stream",
     "text": [
      "25\n"
     ]
    }
   ],
   "source": [
    "square = lambda x: x**2\n",
    "print(square(5))\n"
   ]
  },
  {
   "cell_type": "markdown",
   "id": "8638fb06-e961-4f69-bbae-4ee1ef4ce782",
   "metadata": {},
   "source": [
    "7. Create a lambda function to find the maximum value in a list of integers."
   ]
  },
  {
   "cell_type": "code",
   "execution_count": 7,
   "id": "f00da49a-4cf1-4118-bd0a-277dd961285a",
   "metadata": {},
   "outputs": [
    {
     "name": "stdout",
     "output_type": "stream",
     "text": [
      "5\n"
     ]
    }
   ],
   "source": [
    "numbers = [1, 2, 3, 4, 5]\n",
    "maximum = lambda x: max(x)\n",
    "print(maximum(numbers))\n"
   ]
  },
  {
   "cell_type": "markdown",
   "id": "81cd4578-fc0d-4086-aeb7-2985aaeeb4d3",
   "metadata": {},
   "source": [
    "8. Implement a lambda function to filter out all the even numbers from a list of integers."
   ]
  },
  {
   "cell_type": "code",
   "execution_count": 8,
   "id": "e99a29b6-b9a0-464c-8386-dcfc3cb0e324",
   "metadata": {},
   "outputs": [
    {
     "name": "stdout",
     "output_type": "stream",
     "text": [
      "[2, 4]\n"
     ]
    }
   ],
   "source": [
    "numbers = [1, 2, 3, 4, 5]\n",
    "evens = list(filter(lambda x: x % 2 == 0, numbers))\n",
    "print(evens)\n"
   ]
  },
  {
   "cell_type": "markdown",
   "id": "dce346e0-3b62-49b8-ac61-d96f6998f12d",
   "metadata": {},
   "source": [
    "9. Write a lambda function to sort a list of strings in ascending order based on the length of each\n",
    "string."
   ]
  },
  {
   "cell_type": "code",
   "execution_count": 9,
   "id": "7314dea2-1c10-4ebb-a996-ef3aba250072",
   "metadata": {},
   "outputs": [
    {
     "name": "stdout",
     "output_type": "stream",
     "text": [
      "['date', 'apple', 'banana', 'cherry']\n"
     ]
    }
   ],
   "source": [
    "strings = ['apple', 'banana', 'cherry', 'date']\n",
    "sorted_strings = sorted(strings, key=lambda x: len(x))\n",
    "print(sorted_strings)\n"
   ]
  },
  {
   "cell_type": "markdown",
   "id": "16e0416c-79df-4563-b9a0-07aa364f57c6",
   "metadata": {},
   "source": [
    "10. Create a lambda function that takes two lists as input and returns a new list containing the\n",
    "common elements between the two lists."
   ]
  },
  {
   "cell_type": "code",
   "execution_count": 10,
   "id": "1abd7bff-5e08-469c-8294-95df4893ef23",
   "metadata": {},
   "outputs": [
    {
     "name": "stdout",
     "output_type": "stream",
     "text": [
      "[3, 4]\n"
     ]
    }
   ],
   "source": [
    "list1 = [1, 2, 3, 4]\n",
    "list2 = [3, 4, 5, 6]\n",
    "common_elements = list(filter(lambda x: x in list1, list2))\n",
    "print(common_elements)\n"
   ]
  },
  {
   "cell_type": "markdown",
   "id": "76c00554-bdfa-4764-b426-fc3a37cff3f7",
   "metadata": {},
   "source": [
    "11. Write a recursive function to calculate the factorial of a given positive integer."
   ]
  },
  {
   "cell_type": "code",
   "execution_count": 11,
   "id": "643402f7-62ea-48d6-a33e-2b12bdfc504e",
   "metadata": {},
   "outputs": [
    {
     "name": "stdout",
     "output_type": "stream",
     "text": [
      "120\n"
     ]
    }
   ],
   "source": [
    "def factorial(n):\n",
    "    if n == 0:\n",
    "        return 1\n",
    "    else:\n",
    "        return n * factorial(n-1)\n",
    "\n",
    "print(factorial(5))\n"
   ]
  },
  {
   "cell_type": "markdown",
   "id": "a17fa371-5ca9-44f3-9c66-d195cd4c8509",
   "metadata": {},
   "source": [
    "12. Implement a recursive function to compute the nth Fibonacci number."
   ]
  },
  {
   "cell_type": "code",
   "execution_count": 12,
   "id": "24c5b0a9-c3be-464f-a52b-0fc0f416cb4d",
   "metadata": {},
   "outputs": [
    {
     "name": "stdout",
     "output_type": "stream",
     "text": [
      "13\n"
     ]
    }
   ],
   "source": [
    "def fibonacci(n):\n",
    "    if n <= 1:\n",
    "        return n\n",
    "    else:\n",
    "        return fibonacci(n-1) + fibonacci(n-2)\n",
    "\n",
    "print(fibonacci(7))\n"
   ]
  },
  {
   "cell_type": "markdown",
   "id": "92fd9513-5036-4977-ac1a-aa4c051050e3",
   "metadata": {},
   "source": [
    "13. Create a recursive function to find the sum of all the elements in a given list."
   ]
  },
  {
   "cell_type": "code",
   "execution_count": 13,
   "id": "e37053a8-0915-4bda-949d-7b80eca649f1",
   "metadata": {},
   "outputs": [
    {
     "name": "stdout",
     "output_type": "stream",
     "text": [
      "15\n"
     ]
    }
   ],
   "source": [
    "def sum_list(lst):\n",
    "    if len(lst) == 0:\n",
    "        return 0\n",
    "    else:\n",
    "        return lst[0] + sum_list(lst[1:])\n",
    "\n",
    "numbers = [1, 2, 3, 4, 5]\n",
    "print(sum_list(numbers))\n"
   ]
  },
  {
   "cell_type": "markdown",
   "id": "204aedd8-0845-47e5-a3b7-8d084c134862",
   "metadata": {},
   "source": [
    "14. Write a recursive function to determine whether a given string is a palindrome."
   ]
  },
  {
   "cell_type": "code",
   "execution_count": 14,
   "id": "e91117f6-212c-4764-8177-bc7689c2a309",
   "metadata": {},
   "outputs": [
    {
     "name": "stdout",
     "output_type": "stream",
     "text": [
      "True\n"
     ]
    }
   ],
   "source": [
    "def is_palindrome(s):\n",
    "    if len(s) <= 1:\n",
    "        return True\n",
    "    else:\n",
    "        return s[0] == s[-1] and is_palindrome(s[1:-1])\n",
    "\n",
    "print(is_palindrome('racecar'))\n"
   ]
  },
  {
   "cell_type": "markdown",
   "id": "54f331cb-a197-4685-892e-b6bada946264",
   "metadata": {},
   "source": [
    "15. Implement a recursive function to find the greatest common divisor (GCD) of two positive integers."
   ]
  },
  {
   "cell_type": "code",
   "execution_count": 15,
   "id": "0e50a598-89d0-4896-8297-cbff27dc2e48",
   "metadata": {},
   "outputs": [
    {
     "name": "stdout",
     "output_type": "stream",
     "text": [
      "6\n"
     ]
    }
   ],
   "source": [
    "def gcd(a, b):\n",
    "    if b == 0:\n",
    "        return a\n",
    "    else:\n",
    "        return gcd(b, a % b)\n",
    "\n",
    "print(gcd(12, 18))\n"
   ]
  },
  {
   "cell_type": "code",
   "execution_count": null,
   "id": "38e77d62-9e31-4fd2-a48b-ed1c744a1334",
   "metadata": {},
   "outputs": [],
   "source": []
  }
 ],
 "metadata": {
  "kernelspec": {
   "display_name": "Python 3 (ipykernel)",
   "language": "python",
   "name": "python3"
  },
  "language_info": {
   "codemirror_mode": {
    "name": "ipython",
    "version": 3
   },
   "file_extension": ".py",
   "mimetype": "text/x-python",
   "name": "python",
   "nbconvert_exporter": "python",
   "pygments_lexer": "ipython3",
   "version": "3.10.6"
  }
 },
 "nbformat": 4,
 "nbformat_minor": 5
}
