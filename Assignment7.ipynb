{
 "cells": [
  {
   "cell_type": "markdown",
   "id": "1b09d896-8792-4358-b44b-0f0219b87316",
   "metadata": {},
   "source": [
    "Q.1. Create two int type variables, apply addition, subtraction, division and multiplications\n",
    "and store the results in variables. Then print the data in the following format by calling the\n",
    "variables:\n",
    "\n",
    "First variable is __ & second variable is __.\n",
    "\n",
    "Addition: __ + __ = __\n",
    "\n",
    "Subtraction: __ - __ = __\n",
    "\n",
    "Multiplication: __ * __ = __\n",
    "\n",
    "Division: __ / __ = __"
   ]
  },
  {
   "cell_type": "code",
   "execution_count": 4,
   "id": "c98c0a80-86c2-40c0-a0b2-bab8816888fd",
   "metadata": {},
   "outputs": [
    {
     "name": "stdout",
     "output_type": "stream",
     "text": [
      "First variable is 5 & second variable is 3.\n",
      "Addition: 5 + 3 = 8\n",
      "Subtraction: 5 - 3 = 2\n",
      "Multiplication: 5 * 3 = 15\n",
      "Division: 5 / 3 = 1.6666666666666667\n"
     ]
    }
   ],
   "source": [
    "a = 5\n",
    "b = 3\n",
    "addition = a + b\n",
    "subtraction = a - b\n",
    "multiplication = a * b\n",
    "division = a / b\n",
    "print(f\"First variable is {a} & second variable is {b}.\")\n",
    "print(f\"Addition: {a} + {b} = {addition}\")\n",
    "print(f\"Subtraction: {a} - {b} = {subtraction}\")\n",
    "print(f\"Multiplication: {a} * {b} = {multiplication}\")\n",
    "print(f\"Division: {a} / {b} = {division}\")"
   ]
  },
  {
   "cell_type": "markdown",
   "id": "559a6db5-5ae0-432b-b5fa-de0f7d1a7742",
   "metadata": {},
   "source": [
    "Q.2. What is the difference between the following operators:\n",
    "\n",
    "    (i) ‘/’ & ‘//’\n",
    "\n",
    "\n",
    "    (ii) ‘**’ & ‘^’\n"
   ]
  },
  {
   "cell_type": "markdown",
   "id": "43f2a323-03e5-4d70-9143-b6d1490026f4",
   "metadata": {},
   "source": [
    "The / operator performs floating-point division in Python. This means that it returns a floating-point number even if the result is a whole number. For example, 5 / 2 would return 2.5.\n",
    "\n",
    "The // operator performs floor division in Python. This means that it returns the largest integer less than or equal to the result of the division. For example, 5 // 2 would return 2.\n",
    "\n",
    "The ** operator is used for exponentiation in Python. It raises the first operand to the power of the second operand. For example, 2 ** 3 would return 8.\n",
    "\n",
    "The ^ operator is used for bitwise XOR in Python. It returns a binary number where each bit is set to 1 if the corresponding bits of the operands are different, and 0 otherwise."
   ]
  },
  {
   "cell_type": "markdown",
   "id": "b9e0fd21-d81f-4dd4-9787-116a8ec6e603",
   "metadata": {},
   "source": [
    "Q.3. List the logical operators."
   ]
  },
  {
   "cell_type": "markdown",
   "id": "994c92b3-b17f-485e-a214-073ae673a235",
   "metadata": {},
   "source": [
    "The logical operators in Python are:\n",
    "\n",
    "and,or,not\n",
    "\n",
    "\n",
    "and: Returns True if both operands are true.\n",
    "\n",
    "or: Returns True if at least one operand is true.\n",
    "\n",
    "not: Returns the opposite of the operand’s boolean value.\n"
   ]
  },
  {
   "cell_type": "markdown",
   "id": "6bfef140-76d7-410d-ac7a-9f61245c1464",
   "metadata": {},
   "source": [
    "Q.4. Explain right shift operator and left shift operator with examples."
   ]
  },
  {
   "cell_type": "markdown",
   "id": "2e3bc30d-13c9-44fe-b2a6-e6fd21ff77c0",
   "metadata": {},
   "source": [
    "The right shift operator (>>) and left shift operator (<<) are bitwise operators in Python. They shift the bits of the first operand to the right or left by the number of positions specified by the second operand.\n",
    "\n",
    "The right shift operator (>>) shifts the bits of the first operand to the right by the number of positions specified by the second operand. The bits that are shifted off the right end are discarded, and the empty positions on the left are filled with zeros. For example:"
   ]
  },
  {
   "cell_type": "code",
   "execution_count": 6,
   "id": "1f441ee6-031e-4c9c-82c4-16a7cd90d4e4",
   "metadata": {},
   "outputs": [
    {
     "data": {
      "text/plain": [
       "15"
      ]
     },
     "execution_count": 6,
     "metadata": {},
     "output_type": "execute_result"
    }
   ],
   "source": [
    "a=60\n",
    "b=13\n",
    "a>>2"
   ]
  },
  {
   "cell_type": "markdown",
   "id": "de1a9c81-2f40-4ca8-84de-0cf3fb835e16",
   "metadata": {},
   "source": [
    "In this example, a is shifted two positions to the right, resulting in c being assigned the value 15."
   ]
  },
  {
   "cell_type": "markdown",
   "id": "ddb6eb0e-0423-4a28-b2ff-d25243c3c3b5",
   "metadata": {},
   "source": [
    "The left shift operator (<<) shifts the bits of the first operand to the left by the number of positions specified by the second operand. The bits that are shifted off the left end are discarded, and the empty positions on the right are filled with zeros. For example:"
   ]
  },
  {
   "cell_type": "code",
   "execution_count": 7,
   "id": "0213f05d-9141-4802-b494-1ec6abcffcee",
   "metadata": {},
   "outputs": [
    {
     "data": {
      "text/plain": [
       "240"
      ]
     },
     "execution_count": 7,
     "metadata": {},
     "output_type": "execute_result"
    }
   ],
   "source": [
    "a=60\n",
    "b=13\n",
    "a<<2"
   ]
  },
  {
   "cell_type": "markdown",
   "id": "bea08a30-5ac0-4677-8d61-04b3801c194f",
   "metadata": {},
   "source": [
    "In this example, a is shifted two positions to the left, resulting in c being assigned the value 240."
   ]
  },
  {
   "cell_type": "markdown",
   "id": "79948e6f-d1e9-437f-98b1-eb7010ced238",
   "metadata": {},
   "source": [
    "Q.5. Create a list containing int type data of length 15. Then write a code to check if 10 is\n",
    "present in the list or not."
   ]
  },
  {
   "cell_type": "code",
   "execution_count": 8,
   "id": "5a7fe6ce-bbf7-47c1-82ab-8a1320bde777",
   "metadata": {},
   "outputs": [
    {
     "name": "stdout",
     "output_type": "stream",
     "text": [
      "10 is present in the list.\n"
     ]
    }
   ],
   "source": [
    "my_list = [1, 2, 3, 4, 5, 6, 7, 8, 9, 10, 11, 12, 13, 14, 15]\n",
    "\n",
    "if 10 in my_list:\n",
    "    print(\"10 is present in the list.\")\n",
    "else:\n",
    "    print(\"10 is not present in the list.\")\n"
   ]
  },
  {
   "cell_type": "code",
   "execution_count": null,
   "id": "c2221460-dd30-4320-b124-329629b822a9",
   "metadata": {},
   "outputs": [],
   "source": []
  }
 ],
 "metadata": {
  "kernelspec": {
   "display_name": "Python 3 (ipykernel)",
   "language": "python",
   "name": "python3"
  },
  "language_info": {
   "codemirror_mode": {
    "name": "ipython",
    "version": 3
   },
   "file_extension": ".py",
   "mimetype": "text/x-python",
   "name": "python",
   "nbconvert_exporter": "python",
   "pygments_lexer": "ipython3",
   "version": "3.10.6"
  }
 },
 "nbformat": 4,
 "nbformat_minor": 5
}
