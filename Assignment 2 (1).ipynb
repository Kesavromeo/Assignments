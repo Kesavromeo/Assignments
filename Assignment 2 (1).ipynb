{
 "cells": [
  {
   "cell_type": "markdown",
   "id": "7c7c5145-6e11-425d-8780-cefaf2405f2a",
   "metadata": {},
   "source": [
    "1.What are the two values of the Boolean data type? How do you write them?"
   ]
  },
  {
   "cell_type": "markdown",
   "id": "4f889040-28b0-4a67-9fa0-3c6b9e25e6ba",
   "metadata": {},
   "source": [
    "Solution\n",
    "The boolean data type allows us to choose between two values,\n",
    "\n",
    "True\n",
    "False"
   ]
  },
  {
   "cell_type": "code",
   "execution_count": 1,
   "id": "bfa7cf68-a03f-4221-a0a9-4f03815cc79d",
   "metadata": {},
   "outputs": [
    {
     "name": "stdout",
     "output_type": "stream",
     "text": [
      "True\n",
      "False\n"
     ]
    }
   ],
   "source": [
    "print(True)\n",
    "\n",
    "f_bool = False\n",
    "print(f_bool)"
   ]
  },
  {
   "cell_type": "code",
   "execution_count": 4,
   "id": "3edec57d-16ac-4fd5-be9e-66d764838daf",
   "metadata": {},
   "outputs": [
    {
     "name": "stdout",
     "output_type": "stream",
     "text": [
      "True\n",
      "False\n"
     ]
    }
   ],
   "source": [
    "print(7>5)\n",
    "print(7<6)"
   ]
  },
  {
   "cell_type": "markdown",
   "id": "c890afdb-7475-4da8-aa80-f7c6a9ad79ad",
   "metadata": {},
   "source": [
    "2. What are the three different types of Boolean operators?"
   ]
  },
  {
   "cell_type": "code",
   "execution_count": 7,
   "id": "5cbbd766-48aa-432d-9168-e0ef177aeb70",
   "metadata": {},
   "outputs": [
    {
     "name": "stdout",
     "output_type": "stream",
     "text": [
      "False\n",
      "True\n",
      "False\n"
     ]
    }
   ],
   "source": [
    "# AND operator\n",
    "print(True and False)\n",
    "\n",
    "# OR operator\n",
    "print(True or False)\n",
    "\n",
    "# NOT operator\n",
    "print(not True)"
   ]
  },
  {
   "cell_type": "markdown",
   "id": "a99e414d-08ef-48e9-9810-35445055f43d",
   "metadata": {},
   "source": [
    "3. Make a list of each Boolean operator&#39;s truth tables (i.e. every possible combination of Boolean\n",
    "values for the operator and what it evaluate )."
   ]
  },
  {
   "cell_type": "markdown",
   "id": "3c789cac-e820-4252-b64f-2b92276edba7",
   "metadata": {},
   "source": [
    "Solution\n"
   ]
  },
  {
   "cell_type": "code",
   "execution_count": 8,
   "id": "b0e3261e-d07d-44b0-9cd0-1e9d7bb94ced",
   "metadata": {},
   "outputs": [
    {
     "name": "stdout",
     "output_type": "stream",
     "text": [
      "True\n",
      "False\n",
      "False\n",
      "False\n"
     ]
    }
   ],
   "source": [
    "# AND opertor\n",
    "\n",
    "print(True and True)\n",
    "print(True and False)\n",
    "print(False and True)\n",
    "print(False and False)"
   ]
  },
  {
   "cell_type": "code",
   "execution_count": 9,
   "id": "b793d1de-ce6f-4efb-b76f-9f244ba637ee",
   "metadata": {},
   "outputs": [
    {
     "name": "stdout",
     "output_type": "stream",
     "text": [
      "True\n",
      "True\n",
      "True\n",
      "False\n"
     ]
    }
   ],
   "source": [
    "# OR operator\n",
    "\n",
    "print(True or True)\n",
    "print(True or False)\n",
    "print(False or True)\n",
    "print(False or False)"
   ]
  },
  {
   "cell_type": "code",
   "execution_count": 10,
   "id": "afb376d7-3820-4b87-8377-a7b5bf184930",
   "metadata": {},
   "outputs": [
    {
     "name": "stdout",
     "output_type": "stream",
     "text": [
      "False\n",
      "True\n"
     ]
    }
   ],
   "source": [
    "# NOT operator\n",
    "\n",
    "print(not True)\n",
    "print(not False)"
   ]
  },
  {
   "cell_type": "markdown",
   "id": "255ddcc2-4064-493d-bd5e-60c05d6e7f85",
   "metadata": {},
   "source": [
    "4. What are the values of the following expressions?"
   ]
  },
  {
   "cell_type": "code",
   "execution_count": 15,
   "id": "39ff089d-93ce-4b04-b6ea-dc3df1bac754",
   "metadata": {},
   "outputs": [
    {
     "data": {
      "text/plain": [
       "False"
      ]
     },
     "execution_count": 15,
     "metadata": {},
     "output_type": "execute_result"
    }
   ],
   "source": [
    "(5 > 4) and (3 == 5)"
   ]
  },
  {
   "cell_type": "code",
   "execution_count": 14,
   "id": "ab0f546c-7e0a-4ded-8578-e660b4dd2542",
   "metadata": {},
   "outputs": [
    {
     "data": {
      "text/plain": [
       "False"
      ]
     },
     "execution_count": 14,
     "metadata": {},
     "output_type": "execute_result"
    }
   ],
   "source": [
    "not (5 > 4)"
   ]
  },
  {
   "cell_type": "code",
   "execution_count": 16,
   "id": "4c884b3f-41c7-4565-b8f6-01c354e06575",
   "metadata": {},
   "outputs": [
    {
     "data": {
      "text/plain": [
       "True"
      ]
     },
     "execution_count": 16,
     "metadata": {},
     "output_type": "execute_result"
    }
   ],
   "source": [
    "(5 > 4) or (3 == 5)"
   ]
  },
  {
   "cell_type": "code",
   "execution_count": 17,
   "id": "d966f613-1ba3-4b2b-9034-d29f35536350",
   "metadata": {},
   "outputs": [
    {
     "data": {
      "text/plain": [
       "False"
      ]
     },
     "execution_count": 17,
     "metadata": {},
     "output_type": "execute_result"
    }
   ],
   "source": [
    "not ((5 > 4) or (3 == 5))"
   ]
  },
  {
   "cell_type": "code",
   "execution_count": 18,
   "id": "de7873d4-11ba-4145-be82-bcdf96f3d128",
   "metadata": {},
   "outputs": [
    {
     "data": {
      "text/plain": [
       "False"
      ]
     },
     "execution_count": 18,
     "metadata": {},
     "output_type": "execute_result"
    }
   ],
   "source": [
    "(True and True) and (True == False)"
   ]
  },
  {
   "cell_type": "code",
   "execution_count": 19,
   "id": "b7c88292-3c17-4a21-baf3-fc9b41f305ef",
   "metadata": {},
   "outputs": [
    {
     "data": {
      "text/plain": [
       "True"
      ]
     },
     "execution_count": 19,
     "metadata": {},
     "output_type": "execute_result"
    }
   ],
   "source": [
    "(not False) or (not True)"
   ]
  },
  {
   "cell_type": "markdown",
   "id": "6859cd30-de0a-4111-9b63-618e8277691e",
   "metadata": {},
   "source": [
    "5. What are the six comparison operators?"
   ]
  },
  {
   "cell_type": "markdown",
   "id": "368e6e55-f333-4bb8-8b38-77a409e92837",
   "metadata": {},
   "source": [
    "Solution"
   ]
  },
  {
   "cell_type": "code",
   "execution_count": 20,
   "id": "cdb33722-8668-440a-abe5-502b5913440a",
   "metadata": {},
   "outputs": [
    {
     "name": "stdout",
     "output_type": "stream",
     "text": [
      "False\n"
     ]
    }
   ],
   "source": [
    "# == operator\n",
    "print(10==9)"
   ]
  },
  {
   "cell_type": "code",
   "execution_count": 21,
   "id": "6953dd12-e7aa-4abc-b43d-f5150621a814",
   "metadata": {},
   "outputs": [
    {
     "name": "stdout",
     "output_type": "stream",
     "text": [
      "True\n"
     ]
    }
   ],
   "source": [
    "# != operator\n",
    "print(10!=9)"
   ]
  },
  {
   "cell_type": "code",
   "execution_count": 22,
   "id": "19456c9f-4829-4ec8-bdb2-b760c5e73a24",
   "metadata": {},
   "outputs": [
    {
     "name": "stdout",
     "output_type": "stream",
     "text": [
      "True\n"
     ]
    }
   ],
   "source": [
    "# > operator\n",
    "print(10>9)"
   ]
  },
  {
   "cell_type": "code",
   "execution_count": 23,
   "id": "b9fce43d-98e1-4f0a-b123-eceb65d12d7d",
   "metadata": {},
   "outputs": [
    {
     "name": "stdout",
     "output_type": "stream",
     "text": [
      "False\n"
     ]
    }
   ],
   "source": [
    "# < operator\n",
    "print(10<9)"
   ]
  },
  {
   "cell_type": "code",
   "execution_count": 24,
   "id": "eea2f447-f83b-4856-84bb-bf4f5a59117b",
   "metadata": {},
   "outputs": [
    {
     "name": "stdout",
     "output_type": "stream",
     "text": [
      "True\n"
     ]
    }
   ],
   "source": [
    "# >= operator\n",
    "print(10>=10)"
   ]
  },
  {
   "cell_type": "code",
   "execution_count": 25,
   "id": "484620c2-a01f-4df4-90fd-e6fb52b93fdb",
   "metadata": {},
   "outputs": [
    {
     "name": "stdout",
     "output_type": "stream",
     "text": [
      "False\n"
     ]
    }
   ],
   "source": [
    "# <= operator\n",
    "print(111<=100)"
   ]
  },
  {
   "cell_type": "markdown",
   "id": "ae112ff6-3f33-487d-82bb-bde27d1d5866",
   "metadata": {},
   "source": [
    "6. How do you tell the difference between the equal to and assignment operators?Describe a\n",
    "condition and when you would use one."
   ]
  },
  {
   "cell_type": "markdown",
   "id": "ac71182d-6d80-4e08-93d5-62e665d8dfd6",
   "metadata": {},
   "source": [
    "Solution"
   ]
  },
  {
   "cell_type": "code",
   "execution_count": 26,
   "id": "c0f84b93-474c-4256-b06d-42e50e758ed9",
   "metadata": {},
   "outputs": [
    {
     "name": "stdout",
     "output_type": "stream",
     "text": [
      "Value of a is 10\n"
     ]
    }
   ],
   "source": [
    "# an equal to is an assignment operator, eg.\n",
    "\n",
    "a = 10\n",
    "print(f\"Value of a is {a}\")"
   ]
  },
  {
   "cell_type": "code",
   "execution_count": 27,
   "id": "683fb87c-2c13-4232-932e-f040047bccba",
   "metadata": {},
   "outputs": [
    {
     "name": "stdout",
     "output_type": "stream",
     "text": [
      "Value of a is 10\n",
      "Value of a becomes 20\n"
     ]
    }
   ],
   "source": [
    "# we can use arthimetic operator with equal to sign to change value of a variable\n",
    "\n",
    "a = 10\n",
    "print(f\"Value of a is {10}\")\n",
    "\n",
    "# increase value of a by 10\n",
    "a += 10\n",
    "print(f\"Value of a becomes {a}\")"
   ]
  },
  {
   "cell_type": "code",
   "execution_count": 28,
   "id": "74ff1653-3ed6-4e45-a29a-e90889de2b3f",
   "metadata": {},
   "outputs": [
    {
     "name": "stdout",
     "output_type": "stream",
     "text": [
      "Square of value 10 is 100\n"
     ]
    }
   ],
   "source": [
    "# similarly\n",
    "a = 10\n",
    "\n",
    "# an assignment operator by not changing the original value of the variable\n",
    "square_of_a = a**2\n",
    "print(f\"Square of value {a} is {square_of_a}\")\n"
   ]
  },
  {
   "cell_type": "markdown",
   "id": "4df63455-9f7a-467b-8f5e-0a05b2664392",
   "metadata": {},
   "source": [
    "7. Identify the three blocks in this code:\n",
    "spam = 0\n",
    "if spam == 10:\n",
    "print(&#39;eggs&#39;)\n",
    "if spam &gt; 5:\n",
    "print(&#39;bacon&#39;)\n",
    "else:\n",
    "print(&#39;ham&#39;)\n",
    "print(&#39;spam&#39;)\n",
    "print(&#39;spam&#39;)"
   ]
  },
  {
   "cell_type": "markdown",
   "id": "84b134f0-1871-41ac-9930-ca4b190dc07f",
   "metadata": {},
   "source": [
    "Solution"
   ]
  },
  {
   "cell_type": "code",
   "execution_count": 29,
   "id": "95311c15-be1e-4da6-bb36-fe48a28796a4",
   "metadata": {},
   "outputs": [
    {
     "name": "stdout",
     "output_type": "stream",
     "text": [
      "ham\n",
      "spam\n",
      "spam\n"
     ]
    }
   ],
   "source": [
    "spam = 0\n",
    "\n",
    "if spam==10:\n",
    "    print('eggs')\n",
    "if spam>5:\n",
    "    print('bacon')\n",
    "else:\n",
    "    print('ham')\n",
    "print('spam')\n",
    "print('spam')"
   ]
  },
  {
   "cell_type": "markdown",
   "id": "c5e2320c-7435-4a1e-b8ea-c86f5e171ae2",
   "metadata": {},
   "source": [
    "8. Write code that prints Hello if 1 is stored in spam, prints Howdy if 2 is stored in spam, and prints\n",
    "Greetings! if anything else is stored in spam."
   ]
  },
  {
   "cell_type": "markdown",
   "id": "ef1c1afb-96e6-47d3-9fa0-76c5b77c4a93",
   "metadata": {},
   "source": [
    "Solution"
   ]
  },
  {
   "cell_type": "code",
   "execution_count": 33,
   "id": "bbbc79aa-cc6e-476b-9f36-12c36842a9c3",
   "metadata": {},
   "outputs": [
    {
     "name": "stdin",
     "output_type": "stream",
     "text": [
      "Enter Spam Value 1\n"
     ]
    },
    {
     "name": "stdout",
     "output_type": "stream",
     "text": [
      "Value of spam is 1\n",
      "Hello\n"
     ]
    }
   ],
   "source": [
    "spam = int(input(\"Enter Spam Value\"))\n",
    "\n",
    "print(f\"Value of spam is {spam}\")\n",
    "\n",
    "if spam==1:\n",
    "    print(\"Hello\")\n",
    "elif spam==2:\n",
    "    print(\"welcome\")\n",
    "else:\n",
    "    print(\"Greetings!\")"
   ]
  },
  {
   "cell_type": "markdown",
   "id": "e9a85216-b22d-48c7-b366-06b670357609",
   "metadata": {},
   "source": [
    "9.If your programme is stuck in an endless loop, what keys you’ll press?"
   ]
  },
  {
   "cell_type": "markdown",
   "id": "fb074c34-a5f3-4862-9b7f-d5cbb3963bd0",
   "metadata": {},
   "source": [
    "Solution :\n",
    "\n",
    "\n",
    "Press CTRL+C to stop a program stuck in an infinite loop."
   ]
  },
  {
   "cell_type": "markdown",
   "id": "a0dc30eb-a39b-4eca-a81e-f2a86772a0c3",
   "metadata": {},
   "source": [
    "10. How can you tell the difference between break and continue?"
   ]
  },
  {
   "cell_type": "markdown",
   "id": "9aca8ca7-ef1a-4a92-9642-ad7a8932c897",
   "metadata": {},
   "source": [
    "Solution \n",
    "1)The Break statement is used to exit from the loop constructs,continue statement is not used to exit from the loop constructs.\n",
    "\n",
    "2)The break statement is usually used with the switch statement, and it can also use it within the while loop, do-while loop, or the for-loop. The continue statement is not used with the switch statement, but it can be used within the while loop, do-while loop, or for-loop.\n",
    "\n",
    "3)When a break statement is encountered then the control is exited from the loop construct immediately.When the continue statement is encountered then the control automatically passed from the beginning of the loop statement.\n",
    "\n",
    "4)Syntax:break; Syntax:continue;\n",
    "\n",
    "Python provides two keywords break and continue to be used in program as per the requirements."
   ]
  },
  {
   "cell_type": "code",
   "execution_count": 37,
   "id": "de398691-a24f-4031-9711-1d55a5b9fb7a",
   "metadata": {},
   "outputs": [
    {
     "name": "stdout",
     "output_type": "stream",
     "text": [
      "0 is divisible by 5.\n",
      "1 is not divisible by 5.\n",
      "2 is not divisible by 5.\n",
      "3 is not divisible by 5.\n",
      "4 is not divisible by 5.\n",
      "5 is divisible by 5.\n",
      "6 is not divisible by 5.\n",
      "7 is not divisible by 5.\n",
      "8 is not divisible by 5.\n",
      "9 is not divisible by 5.\n",
      "10 is divisible by 5.\n"
     ]
    }
   ],
   "source": [
    "# print all numbers in range [0,10] and check if num is divisible by 5 \n",
    "# using while loop but without adding condition to while loop.\n",
    "\n",
    "num = 0 \n",
    "while True:\n",
    "    if num>10:\n",
    "        break\n",
    "    if num%5==0:\n",
    "        print(f\"{num} is divisible by 5.\")\n",
    "    else:\n",
    "        print(f\"{num} is not divisible by 5.\")\n",
    "\n",
    "    num += 1\n"
   ]
  },
  {
   "cell_type": "code",
   "execution_count": 38,
   "id": "a356d604-b934-4fd5-9fff-a51c2e2827f5",
   "metadata": {},
   "outputs": [
    {
     "name": "stdout",
     "output_type": "stream",
     "text": [
      " \n",
      "m\n",
      " \n",
      "l\n",
      "k\n",
      ",\n",
      " \n",
      "p\n",
      "r\n",
      "n\n",
      "c\n",
      " \n",
      "f\n",
      " \n",
      "s\n",
      "g\n",
      "r\n",
      "d\n"
     ]
    }
   ],
   "source": [
    "# print all letters except vowels from string\n",
    "\n",
    "string = \"i am loki, prince of asgard\"\n",
    "\n",
    "for i in string:\n",
    "    if i=='a' or i=='e' or i=='i' or i=='o' or i=='u':\n",
    "        continue\n",
    "    print(i) "
   ]
  },
  {
   "cell_type": "markdown",
   "id": "891756a1-0482-4e81-951e-8ec9ad56d419",
   "metadata": {},
   "source": [
    "11. In a for loop, what is the difference between range(10), range(0, 10), and range(0, 10, 1)?"
   ]
  },
  {
   "cell_type": "markdown",
   "id": "c345388f-671d-4ce1-b034-beef3dc6e75a",
   "metadata": {},
   "source": [
    "Solution\n",
    "\n",
    "range(10) and range(0,10) outputs same result, but in second case we are defining the start value.\n",
    "\n",
    "By definition, range function is range(start, stop, step)\n",
    "\n",
    "start : The value of the start parameter (or 0 if the parameter was not supplied) (inclusive)\n",
    "stop : The value of the stop parameter (exclusive)\n",
    "step : The value of the step parameter (or 1 if the parameter was not supplied) (specifies increament or decrement)\n"
   ]
  },
  {
   "cell_type": "code",
   "execution_count": 39,
   "id": "52764f18-1ba3-4e15-b92f-13c3942a6e3b",
   "metadata": {},
   "outputs": [
    {
     "name": "stdout",
     "output_type": "stream",
     "text": [
      "0\n",
      "1\n",
      "2\n",
      "3\n"
     ]
    }
   ],
   "source": [
    "for i in range(4):\n",
    "    print(i)"
   ]
  },
  {
   "cell_type": "code",
   "execution_count": 40,
   "id": "c07ff882-6ed8-45ed-b9f3-14bb8bbbfe61",
   "metadata": {},
   "outputs": [
    {
     "name": "stdout",
     "output_type": "stream",
     "text": [
      "1\n",
      "2\n",
      "3\n"
     ]
    }
   ],
   "source": [
    "for i in range(1, 4):\n",
    "    print(i)"
   ]
  },
  {
   "cell_type": "code",
   "execution_count": 41,
   "id": "5e41c4dc-6135-4cac-b41c-99b9e98b0ed0",
   "metadata": {},
   "outputs": [
    {
     "name": "stdout",
     "output_type": "stream",
     "text": [
      "1\n",
      "3\n",
      "5\n",
      "7\n",
      "9\n"
     ]
    }
   ],
   "source": [
    "for i in range(1, 10, 2):\n",
    "    print(i)\n"
   ]
  },
  {
   "cell_type": "code",
   "execution_count": 42,
   "id": "3a325c87-d388-4b71-aaac-ba46f124b2c1",
   "metadata": {},
   "outputs": [
    {
     "name": "stdout",
     "output_type": "stream",
     "text": [
      "10\n",
      "7\n",
      "4\n"
     ]
    }
   ],
   "source": [
    "for i in range(10, 2, -3):\n",
    "    print(i)"
   ]
  },
  {
   "cell_type": "markdown",
   "id": "12d7b201-790a-47b1-a5aa-5ac4fcd372de",
   "metadata": {},
   "source": [
    "12. Write a short program that prints the numbers 1 to 10 using a for loop. Then write an equivalent\n",
    "program that prints the numbers 1 to 10 using a while loop."
   ]
  },
  {
   "cell_type": "code",
   "execution_count": 44,
   "id": "e5577eb3-caa1-403e-8fb5-1297a4c58202",
   "metadata": {},
   "outputs": [
    {
     "name": "stdout",
     "output_type": "stream",
     "text": [
      "1\n",
      "2\n",
      "3\n",
      "4\n",
      "5\n",
      "6\n",
      "7\n",
      "8\n",
      "9\n",
      "10\n"
     ]
    }
   ],
   "source": [
    "for i in range(1,11):\n",
    "    print(i)"
   ]
  },
  {
   "cell_type": "code",
   "execution_count": 45,
   "id": "ee2a4334-23c8-4824-9cbd-bad2f450582a",
   "metadata": {},
   "outputs": [
    {
     "name": "stdout",
     "output_type": "stream",
     "text": [
      "1\n",
      "2\n",
      "3\n",
      "4\n",
      "5\n",
      "6\n",
      "7\n",
      "8\n",
      "9\n",
      "10\n"
     ]
    }
   ],
   "source": [
    "i = 1\n",
    "while(i<=10):\n",
    "    print(i)\n",
    "    i += 1\n"
   ]
  },
  {
   "cell_type": "markdown",
   "id": "3fdb7253-1a35-43c9-b746-c3a5eb66cd34",
   "metadata": {},
   "source": [
    "13. If you had a function named bacon() inside a module named spam, how would you call it after\n",
    "importing spam?"
   ]
  },
  {
   "cell_type": "markdown",
   "id": "5a9ccc24-ffdd-4e6a-8495-6dd8e84df7c6",
   "metadata": {},
   "source": [
    "Solution"
   ]
  },
  {
   "cell_type": "markdown",
   "id": "890b5960-ad4b-4413-84a5-0cbedc37df2e",
   "metadata": {},
   "source": [
    "This function can be called with spam.bacon()"
   ]
  },
  {
   "cell_type": "code",
   "execution_count": null,
   "id": "431e8cba-3345-4083-a989-a1163f34fb57",
   "metadata": {},
   "outputs": [],
   "source": []
  }
 ],
 "metadata": {
  "kernelspec": {
   "display_name": "Python 3 (ipykernel)",
   "language": "python",
   "name": "python3"
  },
  "language_info": {
   "codemirror_mode": {
    "name": "ipython",
    "version": 3
   },
   "file_extension": ".py",
   "mimetype": "text/x-python",
   "name": "python",
   "nbconvert_exporter": "python",
   "pygments_lexer": "ipython3",
   "version": "3.10.6"
  }
 },
 "nbformat": 4,
 "nbformat_minor": 5
}
