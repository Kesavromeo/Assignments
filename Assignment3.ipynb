{
 "cells": [
  {
   "cell_type": "markdown",
   "id": "2677cd99-1d8c-4725-b10c-1c5476fce6ce",
   "metadata": {},
   "source": [
    "1.Why are functions advantageous to have in your programs?"
   ]
  },
  {
   "cell_type": "markdown",
   "id": "8b54c7f4-00ea-4548-b5f5-3d461f670ee0",
   "metadata": {},
   "source": [
    "Solution"
   ]
  },
  {
   "cell_type": "markdown",
   "id": "31bd5524-5592-4fef-9b7a-a0b7dace1f9e",
   "metadata": {},
   "source": [
    "Functions are reusable pieces of programs.\n",
    "\n",
    "Functions allow us to give a name to a block of statements, allowing us to run that block using the specified function name anywhere in our application and any number of times.\n",
    "\n",
    "Primary benefits are:\n",
    "\n",
    "Reusability : A function can be used again and again.\n",
    "Simplicity : Functions are easy to use and make code readable. We only need to know the purpose of a function and when to use it without focusing on inner working."
   ]
  },
  {
   "cell_type": "code",
   "execution_count": 2,
   "id": "6fc098f8-8590-43e2-9ffe-47ff935a98cf",
   "metadata": {},
   "outputs": [
    {
     "name": "stdout",
     "output_type": "stream",
     "text": [
      "Cube of 2 is : 8\n",
      "Cube of 4 is : 64\n"
     ]
    }
   ],
   "source": [
    "# define a function\n",
    "\n",
    "def cubeofNumber(x):\n",
    "    return x**3\n",
    "\n",
    "print(f\"Cube of 2 is : {cubeofNumber(2)}\")\n",
    "print(f\"Cube of 4 is : {cubeofNumber(4)}\") # calling same function again"
   ]
  },
  {
   "cell_type": "markdown",
   "id": "1321f9c3-637d-44fc-90a7-c238b9b5fa2c",
   "metadata": {},
   "source": [
    "2. When does the code in a function run: when it&#39;s specified or when it&#39;s called?"
   ]
  },
  {
   "cell_type": "markdown",
   "id": "6fc4ed14-caff-4090-9bc4-59a0dfe0fb25",
   "metadata": {},
   "source": [
    "Solution:"
   ]
  },
  {
   "cell_type": "markdown",
   "id": "f957dbba-9cab-4bf1-b66e-ba8574cd4587",
   "metadata": {},
   "source": [
    "# specify a function\n",
    "\n",
    "'''\n",
    "we use `def <function-name>():`\n",
    "to specify a function.\n",
    "'''\n",
    "\n",
    "def sqrofNumber(x):\n",
    "    \"\"\"\n",
    "    returns square of number\n",
    "    \"\"\"\n",
    "    return x**2"
   ]
  },
  {
   "cell_type": "markdown",
   "id": "4aa7d5b4-0729-4ea9-be54-1d335cb1f0b0",
   "metadata": {},
   "source": [
    "In above cell we have defined our function. The code inside the function will not get executed unless we call the function with specified parameters.\n",
    "\n",
    "Calling a function,"
   ]
  },
  {
   "cell_type": "code",
   "execution_count": 6,
   "id": "8d7d3c29-e69b-472b-b41c-315cc71ad499",
   "metadata": {},
   "outputs": [
    {
     "data": {
      "text/plain": [
       "1936"
      ]
     },
     "execution_count": 6,
     "metadata": {},
     "output_type": "execute_result"
    }
   ],
   "source": [
    "sqrofNumber(44)"
   ]
  },
  {
   "cell_type": "markdown",
   "id": "bdad70e8-4ba0-440d-aa30-9554e2ec6dca",
   "metadata": {},
   "source": [
    "A function is called as per the requirements of a task."
   ]
  },
  {
   "cell_type": "markdown",
   "id": "5ffa8a05-5b9d-4a1c-94d4-509360c25e9e",
   "metadata": {},
   "source": [
    "3. What statement creates a function?"
   ]
  },
  {
   "cell_type": "markdown",
   "id": "9db283b5-1238-417a-85cd-4261dfcc4bcc",
   "metadata": {},
   "source": [
    "The def statement defines (that is, creates) a function."
   ]
  },
  {
   "cell_type": "markdown",
   "id": "2726c4f3-0588-4eb6-a64b-3203c1dbfb87",
   "metadata": {},
   "source": [
    "4. What is the difference between a function and a function call?"
   ]
  },
  {
   "cell_type": "markdown",
   "id": "77c23dc0-99a0-47cc-bdfb-6b4b89a71c24",
   "metadata": {},
   "source": [
    "A function consists of the def statement and the code in its def clause.\n",
    "\n",
    "A function call is what moves the program execution into the function, and the function call evaluates to the function’s return value."
   ]
  },
  {
   "cell_type": "markdown",
   "id": "a41189d0-0aeb-445d-8ce4-8c7ac4d30a9b",
   "metadata": {},
   "source": [
    "5. How many global scopes are there in a Python program? How many local scopes?\n"
   ]
  },
  {
   "cell_type": "markdown",
   "id": "e3e48648-cba6-4818-991e-56b014479e4a",
   "metadata": {},
   "source": [
    "There is one global scope, and a local scope is created whenever a function is called.\n",
    "​"
   ]
  },
  {
   "cell_type": "markdown",
   "id": "201b06fe-1d0b-4a2b-b20a-33dd9b76eca2",
   "metadata": {},
   "source": [
    "6. What happens to variables in a local scope when the function call returns?"
   ]
  },
  {
   "cell_type": "markdown",
   "id": "8301d248-c782-418b-9715-130f5e42dcaf",
   "metadata": {},
   "source": [
    "When a function returns, the local scope is destroyed, and all the variables in it are forgotten."
   ]
  },
  {
   "cell_type": "markdown",
   "id": "01fecd6a-b299-4be1-a6c1-715bf1db14db",
   "metadata": {},
   "source": [
    "7. What is the concept of a return value? Is it possible to have a return value in an expression?"
   ]
  },
  {
   "cell_type": "markdown",
   "id": "289c7b78-542f-4b6e-bd8b-54f7a0313cc0",
   "metadata": {},
   "source": [
    "A return value is the value that a function call evaluates to. Like any value, a return value can be used as part of an expression."
   ]
  },
  {
   "cell_type": "markdown",
   "id": "cd64d22c-9a07-4c7a-9aa1-e1272307d09f",
   "metadata": {},
   "source": [
    "8. If a function does not have a return statement, what is the return value of a call to that function?"
   ]
  },
  {
   "cell_type": "markdown",
   "id": "699caa0c-1728-422e-a241-8c6924b0b334",
   "metadata": {},
   "source": [
    "If there is no return statement for a function, its return value is None."
   ]
  },
  {
   "cell_type": "markdown",
   "id": "64fb7ea8-a689-4c8c-9267-74cb3d7c8019",
   "metadata": {},
   "source": [
    "9. How do you make a function variable refer to the global variable?\n"
   ]
  },
  {
   "cell_type": "markdown",
   "id": "742a307b-5bae-4352-849f-a8ac35ec4a96",
   "metadata": {},
   "source": [
    "A global statement will force a variable in a function to refer to the global variable."
   ]
  },
  {
   "cell_type": "markdown",
   "id": "b96f13af-e5d3-4a57-974a-d06f03b03e5f",
   "metadata": {},
   "source": [
    "10. What is the data type of None?"
   ]
  },
  {
   "cell_type": "markdown",
   "id": "328c986a-9421-4aca-aa7c-d8ec66a66a26",
   "metadata": {},
   "source": [
    "The data type of None is NoneType."
   ]
  },
  {
   "cell_type": "markdown",
   "id": "fca4d6db-eb6a-454d-a995-beab0e87f3be",
   "metadata": {},
   "source": [
    "11. What does the sentence import areallyourpetsnamederic do?"
   ]
  },
  {
   "cell_type": "markdown",
   "id": "dde33927-c3aa-4f33-8039-cc0ee6929ecc",
   "metadata": {},
   "source": [
    "That import statement imports a module named areallyourpetsnamederic"
   ]
  },
  {
   "cell_type": "markdown",
   "id": "203b684d-2ad4-4fcc-9e69-7de296c1e138",
   "metadata": {},
   "source": [
    "12. If you had a bacon() feature in a spam module, what would you call it after importing spam?"
   ]
  },
  {
   "cell_type": "markdown",
   "id": "1c208337-3773-4433-a3f8-ae99976a94ff",
   "metadata": {},
   "source": [
    "This function can be called with spam.bacon()"
   ]
  },
  {
   "cell_type": "markdown",
   "id": "a449948d-4661-4862-bf66-b4cb725c7856",
   "metadata": {},
   "source": [
    "13. What can you do to save a programme from crashing if it encounters an error?"
   ]
  },
  {
   "cell_type": "markdown",
   "id": "45bdc6f1-eafb-4c66-9ad0-77d3557ccae0",
   "metadata": {},
   "source": [
    "Place the line of code that might cause an error in a try clause."
   ]
  },
  {
   "cell_type": "markdown",
   "id": "bb1be88b-82c1-4271-9331-c82a7f525244",
   "metadata": {},
   "source": [
    "14. What is the purpose of the try clause? What is the purpose of the except clause?"
   ]
  },
  {
   "cell_type": "markdown",
   "id": "0a2ae3e3-4adc-4249-b2e8-b901a3179254",
   "metadata": {},
   "source": [
    "The code that could potentially cause an error goes in the try clause.\n",
    "\n",
    "The code that executes if an error happens goes in the except clause."
   ]
  },
  {
   "cell_type": "code",
   "execution_count": null,
   "id": "6abe8935-9c39-4160-8866-f73f3ba9b2ee",
   "metadata": {},
   "outputs": [],
   "source": []
  }
 ],
 "metadata": {
  "kernelspec": {
   "display_name": "Python 3 (ipykernel)",
   "language": "python",
   "name": "python3"
  },
  "language_info": {
   "codemirror_mode": {
    "name": "ipython",
    "version": 3
   },
   "file_extension": ".py",
   "mimetype": "text/x-python",
   "name": "python",
   "nbconvert_exporter": "python",
   "pygments_lexer": "ipython3",
   "version": "3.10.6"
  }
 },
 "nbformat": 4,
 "nbformat_minor": 5
}
