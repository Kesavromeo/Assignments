{
 "cells": [
  {
   "cell_type": "markdown",
   "id": "ffa04b00-c1dc-45e4-aa61-e57b1716f7af",
   "metadata": {},
   "source": [
    "1. In Python, what is the difference between a built-in function and a user-defined function? Provide an\n",
    "example of each."
   ]
  },
  {
   "cell_type": "markdown",
   "id": "1954575f-0d83-462f-861a-4568197c0db7",
   "metadata": {},
   "source": [
    "A built-in function is a function that is included in Python by default. These functions are always available and can be used without the need for any additional imports or installations. Examples of built-in functions include print(), len(), and range().\n",
    "\n",
    "A user-defined function is a function that is created by the user. These functions are defined using the def keyword and can be customized to perform specific tasks. Here’s an example of a user-defined function:"
   ]
  },
  {
   "cell_type": "code",
   "execution_count": 1,
   "id": "24dcaa64-3e4f-475f-9ce0-035ed754b13e",
   "metadata": {},
   "outputs": [],
   "source": [
    "def add_numbers(x, y):\n",
    "    return x + y"
   ]
  },
  {
   "cell_type": "markdown",
   "id": "9abc72dc-da70-4b84-83fb-92689d4481b8",
   "metadata": {},
   "source": [
    "This function takes two arguments (x and y) and returns their sum. You can call this function like this:"
   ]
  },
  {
   "cell_type": "code",
   "execution_count": 2,
   "id": "9f8a0b4e-98c5-4f0c-9744-e2c36f762250",
   "metadata": {},
   "outputs": [
    {
     "name": "stdout",
     "output_type": "stream",
     "text": [
      "15\n"
     ]
    }
   ],
   "source": [
    "result = add_numbers(5, 10)\n",
    "print(result)"
   ]
  },
  {
   "cell_type": "markdown",
   "id": "23190622-e24f-421c-8e72-a816b0f45820",
   "metadata": {},
   "source": [
    "In this example, we’re passing the values 5 and 10 to the add_numbers() function as arguments. The function then returns their sum (15) and assigns it to the variable result. Finally, we print the value of result."
   ]
  },
  {
   "cell_type": "markdown",
   "id": "f64ac39d-5331-46c3-9f24-f776983354ad",
   "metadata": {},
   "source": [
    "2. How can you pass arguments to a function in Python? Explain the difference between positional\n",
    "arguments and keyword arguments."
   ]
  },
  {
   "cell_type": "markdown",
   "id": "ea772972-87ee-41cb-81e4-562abecae9bd",
   "metadata": {},
   "source": [
    "You can pass arguments to a function in Python by including them in the function call. There are two types of arguments you can pass: positional arguments and keyword arguments.\n",
    "\n",
    "Positional arguments are arguments that are passed to a function based on their position. For example:"
   ]
  },
  {
   "cell_type": "code",
   "execution_count": 3,
   "id": "6a68227d-5ead-43d2-be0d-23ca7c0c1ea1",
   "metadata": {},
   "outputs": [
    {
     "name": "stdout",
     "output_type": "stream",
     "text": [
      "Hello, John!\n"
     ]
    }
   ],
   "source": [
    "def greet(name, message):\n",
    "    print(f\"{message}, {name}!\")\n",
    "\n",
    "greet(\"John\", \"Hello\")"
   ]
  },
  {
   "cell_type": "markdown",
   "id": "d27c16a1-ce91-489a-89e2-6043a6df16d0",
   "metadata": {},
   "source": [
    "In this example, we’re passing two positional arguments to the greet() function: \"John\" and \"Hello\". The order of the arguments matters - the first argument is assigned to the name parameter, and the second argument is assigned to the message parameter."
   ]
  },
  {
   "cell_type": "markdown",
   "id": "e43fa182-52ec-417e-967a-b50b27cb8610",
   "metadata": {},
   "source": [
    "Keyword arguments are arguments that are passed to a function based on their name. For example:"
   ]
  },
  {
   "cell_type": "code",
   "execution_count": 4,
   "id": "2402fd18-206c-427e-9719-ca5eff33ee29",
   "metadata": {},
   "outputs": [
    {
     "name": "stdout",
     "output_type": "stream",
     "text": [
      "Hello, John!\n"
     ]
    }
   ],
   "source": [
    "def greet(name, message):\n",
    "    print(f\"{message}, {name}!\")\n",
    "\n",
    "greet(message=\"Hello\", name=\"John\")"
   ]
  },
  {
   "cell_type": "markdown",
   "id": "ae0d5521-dd2d-43c1-80bf-2f592517ed67",
   "metadata": {},
   "source": [
    "In this example, we’re passing two keyword arguments to the greet() function: message=\"Hello\" and name=\"John\". The order of the arguments doesn’t matter - each argument is assigned to the corresponding parameter based on its name.\n",
    "\n",
    "You can also mix positional and keyword arguments in a function call. However, positional arguments must come before keyword arguments. For example:"
   ]
  },
  {
   "cell_type": "code",
   "execution_count": 5,
   "id": "272c997d-d1b6-4e40-82da-5a092a0640d8",
   "metadata": {},
   "outputs": [
    {
     "name": "stdout",
     "output_type": "stream",
     "text": [
      "Hello, John!\n"
     ]
    }
   ],
   "source": [
    "def greet(name, message):\n",
    "    print(f\"{message}, {name}!\")\n",
    "\n",
    "greet(\"John\", message=\"Hello\")"
   ]
  },
  {
   "cell_type": "markdown",
   "id": "82052ac8-6906-4ae0-9410-17fcd302faaf",
   "metadata": {},
   "source": [
    "In this example, we’re passing one positional argument (\"John\") and one keyword argument (message=\"Hello\")."
   ]
  },
  {
   "cell_type": "markdown",
   "id": "05c6bffd-3aa1-423b-8b89-6ae0fec325a1",
   "metadata": {},
   "source": [
    "3. What is the purpose of the return statement in a function? Can a function have multiple return\n",
    "statements? Explain with an example."
   ]
  },
  {
   "cell_type": "markdown",
   "id": "24f10c39-ff96-4191-97b3-09120a557452",
   "metadata": {},
   "source": [
    "The return statement is used in a function to specify the value that the function should return. When a return statement is executed, the function stops executing and returns the specified value to the caller.\n",
    "\n",
    "A function can have multiple return statements. When a return statement is executed, the function stops executing and returns the specified value to the caller. Here’s an example:"
   ]
  },
  {
   "cell_type": "code",
   "execution_count": 8,
   "id": "d71434f0-b52a-43ef-afb6-3e573fece27a",
   "metadata": {},
   "outputs": [
    {
     "name": "stdout",
     "output_type": "stream",
     "text": [
      "B\n"
     ]
    }
   ],
   "source": [
    "def get_grade(score):\n",
    "    if score >= 90:\n",
    "        return \"A\"\n",
    "    elif score >= 80:\n",
    "        return \"B\"\n",
    "    elif score >= 70:\n",
    "        return \"C\"\n",
    "    else:\n",
    "        return \"F\"\n",
    "\n",
    "grade = get_grade(85)\n",
    "print(grade)\n"
   ]
  },
  {
   "cell_type": "markdown",
   "id": "4e711d4a-8cab-44c4-91d4-33045f8b5abf",
   "metadata": {},
   "source": [
    "4.What are lambda functions in Python? How are they different from regular functions? Provide an\n",
    "example where a lambda function can be useful."
   ]
  },
  {
   "cell_type": "markdown",
   "id": "22bc8fd9-29c0-40d9-9bcd-5282fa8f0761",
   "metadata": {},
   "source": [
    "A lambda function is a small anonymous function in Python that can have any number of arguments, but can only have one expression. They are defined using the lambda keyword and are often used as a shortcut for simple functions that are only used once.\n",
    "\n",
    "Here’s an example of a lambda function that adds two numbers:"
   ]
  },
  {
   "cell_type": "code",
   "execution_count": 9,
   "id": "6a9b508b-8f11-42d2-82a8-ab68cf00fd1a",
   "metadata": {},
   "outputs": [
    {
     "name": "stdout",
     "output_type": "stream",
     "text": [
      "5\n"
     ]
    }
   ],
   "source": [
    "add = lambda x, y: x + y\n",
    "print(add(2, 3))\n"
   ]
  },
  {
   "cell_type": "markdown",
   "id": "3d69bc8a-d622-410e-bc95-304d0a171b32",
   "metadata": {},
   "source": [
    "Lambda functions are different from regular functions in Python because they are anonymous - they don’t have a name. They are also often used as a shortcut for simple functions that are only used once.\n",
    "\n",
    "Lambda functions can be useful in situations where you need to pass a function as an argument to another function. For example, the built-in map() function in Python takes a function and applies it to each element of an iterable. Here’s an example:"
   ]
  },
  {
   "cell_type": "code",
   "execution_count": 10,
   "id": "46b395ba-4986-4dc5-a007-cd4aca7fbdab",
   "metadata": {},
   "outputs": [
    {
     "name": "stdout",
     "output_type": "stream",
     "text": [
      "[1, 4, 9, 16, 25]\n"
     ]
    }
   ],
   "source": [
    "numbers = [1, 2, 3, 4, 5]\n",
    "squares = list(map(lambda x: x**2, numbers))\n",
    "print(squares)\n"
   ]
  },
  {
   "cell_type": "markdown",
   "id": "8037ecad-c019-4ffb-b738-ae3f5bf4f17c",
   "metadata": {},
   "source": [
    "5. How does the concept of \"scope\" apply to functions in Python? Explain the difference between local\n",
    "scope and global scope."
   ]
  },
  {
   "cell_type": "markdown",
   "id": "d02529e5-aceb-480d-adde-fab3aec7d688",
   "metadata": {},
   "source": [
    "In Python, scope refers to the region of a program where a particular variable is accessible. There are two types of scope in Python: local scope and global scope.\n",
    "\n",
    "A variable that is defined inside a function is said to have local scope. This means that the variable can only be accessed from within the function. Here’s an example:"
   ]
  },
  {
   "cell_type": "code",
   "execution_count": 11,
   "id": "f84f0bf8-d663-43b4-af9d-6d710557f49f",
   "metadata": {},
   "outputs": [
    {
     "name": "stdout",
     "output_type": "stream",
     "text": [
      "10\n"
     ]
    },
    {
     "ename": "NameError",
     "evalue": "name 'x' is not defined",
     "output_type": "error",
     "traceback": [
      "\u001b[0;31m---------------------------------------------------------------------------\u001b[0m",
      "\u001b[0;31mNameError\u001b[0m                                 Traceback (most recent call last)",
      "Cell \u001b[0;32mIn [11], line 6\u001b[0m\n\u001b[1;32m      3\u001b[0m     \u001b[38;5;28mprint\u001b[39m(x)\n\u001b[1;32m      5\u001b[0m my_function()\n\u001b[0;32m----> 6\u001b[0m \u001b[38;5;28mprint\u001b[39m(\u001b[43mx\u001b[49m)\n",
      "\u001b[0;31mNameError\u001b[0m: name 'x' is not defined"
     ]
    }
   ],
   "source": [
    "def my_function():\n",
    "    x = 10\n",
    "    print(x)\n",
    "\n",
    "my_function()\n",
    "print(x)\n"
   ]
  },
  {
   "cell_type": "markdown",
   "id": "2e436604-d49a-44a6-814a-f3735a2a7e29",
   "metadata": {},
   "source": [
    "In this example, we’re defining a function called my_function() that sets a variable x to 10 and prints its value. We’re then calling the my_function() function, which prints 10 to the console.\n",
    "\n",
    "However, if we try to access the variable x outside of the function, we get a NameError because the variable is not defined in the global scope.\n",
    "\n",
    "A variable that is defined outside of any function is said to have global scope. This means that the variable can be accessed from anywhere in the program. Here’s an example:"
   ]
  },
  {
   "cell_type": "code",
   "execution_count": 12,
   "id": "cbca7b2c-b248-40dc-8b94-4c067d565bc8",
   "metadata": {},
   "outputs": [
    {
     "name": "stdout",
     "output_type": "stream",
     "text": [
      "10\n",
      "10\n"
     ]
    }
   ],
   "source": [
    "x = 10\n",
    "\n",
    "def my_function():\n",
    "    print(x)\n",
    "\n",
    "my_function() \n",
    "print(x) \n"
   ]
  },
  {
   "cell_type": "markdown",
   "id": "f15cbfaa-7b10-45d0-b2a5-5f9207b02de5",
   "metadata": {},
   "source": [
    "6. How can you use the \"return\" statement in a Python function to return multiple values?"
   ]
  },
  {
   "cell_type": "markdown",
   "id": "130d4efa-e841-4e3f-a168-04c4ec99038f",
   "metadata": {},
   "source": [
    "In Python, you can return multiple values from a function by simply separating them with commas in the return statement. For example:"
   ]
  },
  {
   "cell_type": "code",
   "execution_count": 13,
   "id": "b3c48fee-c820-44bb-92ff-d6ecb151c7e9",
   "metadata": {},
   "outputs": [
    {
     "name": "stdout",
     "output_type": "stream",
     "text": [
      "1\n",
      "2\n",
      "3\n"
     ]
    }
   ],
   "source": [
    "def my_function():\n",
    "    return 1, 2, 3\n",
    "\n",
    "a, b, c = my_function()\n",
    "print(a)  \n",
    "print(b)  \n",
    "print(c)  \n"
   ]
  },
  {
   "cell_type": "markdown",
   "id": "3585c541-5cc0-4079-8b39-5a7e73f28ff2",
   "metadata": {},
   "source": [
    "In this example, we’re defining a function called my_function() that returns three values (1, 2, and 3). We’re then calling the my_function() function and assigning the returned values to variables a, b, and c. Finally, we’re printing the values of a, b, and c."
   ]
  },
  {
   "cell_type": "markdown",
   "id": "d2653632-b7f6-4bd9-bba7-e2a1e5457959",
   "metadata": {},
   "source": [
    "7. What is the difference between the \"pass by value\" and \"pass by reference\" concepts when it\n",
    "comes to function arguments in Python?"
   ]
  },
  {
   "cell_type": "markdown",
   "id": "64b67961-18ec-4ef4-a065-09029b36c9a8",
   "metadata": {},
   "source": [
    "Python’s argument passing model is neither “Pass by Value” nor “Pass by Reference” but it is “Pass by Object Reference”. The paradigms of “Pass by value”, “Pass by Reference” and “Pass by object Reference” can be understood by exploring the below example functions:"
   ]
  },
  {
   "cell_type": "code",
   "execution_count": 14,
   "id": "711ff478-442e-4f3a-b868-365b15be5814",
   "metadata": {},
   "outputs": [
    {
     "name": "stdout",
     "output_type": "stream",
     "text": [
      "10\n"
     ]
    }
   ],
   "source": [
    "def my_function(x):\n",
    "    x = 20\n",
    "\n",
    "a = 10\n",
    "my_function(a)\n",
    "print(a) \n"
   ]
  },
  {
   "cell_type": "markdown",
   "id": "a86797a9-4e6a-4994-baa4-525f47979c81",
   "metadata": {},
   "source": [
    "Python passes arguments by reference, but it passes references by value. In other words, when you pass an argument to a function in Python, you’re passing a reference to an object. However, this reference is passed by value. This means that if you modify the object inside the function, the changes will be reflected outside the function as well. However, if you reassign the reference inside the function (as we did in the example above), this will not affect the reference outside the function."
   ]
  },
  {
   "cell_type": "markdown",
   "id": "70acbf89-8bf8-433b-869c-d460dec4e0a7",
   "metadata": {},
   "source": [
    "8. Create a function that can intake integer or decimal value and do following operations:\n",
    "a. Logarithmic function (log x)\n",
    "\n",
    "b. Exponential function (exp(x))\n",
    "\n",
    "c. Power function with base 2 (2x)\n",
    "\n",
    "\n",
    "d. Square root"
   ]
  },
  {
   "cell_type": "code",
   "execution_count": 15,
   "id": "a937ac13-69a7-4cf9-a676-7d19c4ed8877",
   "metadata": {},
   "outputs": [
    {
     "name": "stdout",
     "output_type": "stream",
     "text": [
      "logarithmic function (log x): 1.3862943611198906\n",
      "exponential function (exp(x)): 54.598150033144236\n",
      "power function with base 2 (2x): 16\n",
      "square root: 2.0\n"
     ]
    }
   ],
   "source": [
    "import math\n",
    "\n",
    "def my_function(x):\n",
    "    print(f\"logarithmic function (log x): {math.log(x)}\")\n",
    "    print(f\"exponential function (exp(x)): {math.exp(x)}\")\n",
    "    print(f\"power function with base 2 (2x): {2 ** x}\")\n",
    "    print(f\"square root: {math.sqrt(x)}\")\n",
    "\n",
    "my_function(4)"
   ]
  },
  {
   "cell_type": "markdown",
   "id": "7909057d-ed10-42be-a659-1af692f0d1bf",
   "metadata": {},
   "source": [
    "9. Create a function that takes a full name as an argument and returns first name and last name."
   ]
  },
  {
   "cell_type": "code",
   "execution_count": 16,
   "id": "92b45b6a-0baf-4962-9c65-d74cb26fbee9",
   "metadata": {},
   "outputs": [
    {
     "name": "stdout",
     "output_type": "stream",
     "text": [
      "('John', 'Doe')\n"
     ]
    }
   ],
   "source": [
    "def my_function(name):\n",
    "    first_name, last_name = name.split(\" \")\n",
    "    return first_name, last_name\n",
    "\n",
    "print(my_function(\"John Doe\"))\n"
   ]
  },
  {
   "cell_type": "code",
   "execution_count": null,
   "id": "8a4d381c-4326-4641-9e7f-02da70b8170e",
   "metadata": {},
   "outputs": [],
   "source": []
  }
 ],
 "metadata": {
  "kernelspec": {
   "display_name": "Python 3 (ipykernel)",
   "language": "python",
   "name": "python3"
  },
  "language_info": {
   "codemirror_mode": {
    "name": "ipython",
    "version": 3
   },
   "file_extension": ".py",
   "mimetype": "text/x-python",
   "name": "python",
   "nbconvert_exporter": "python",
   "pygments_lexer": "ipython3",
   "version": "3.10.6"
  }
 },
 "nbformat": 4,
 "nbformat_minor": 5
}
